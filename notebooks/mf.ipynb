{
 "cells": [
  {
   "cell_type": "code",
   "execution_count": 1,
   "id": "7e515e78",
   "metadata": {},
   "outputs": [],
   "source": [
    "%reload_ext autoreload\n",
    "%autoreload 2\n",
    "\n",
    "import os\n",
    "import sys\n",
    "sys.path.insert(1, os.path.join(sys.path[0], '..'))"
   ]
  },
  {
   "cell_type": "code",
   "execution_count": null,
   "id": "efe2b751",
   "metadata": {},
   "outputs": [],
   "source": []
  },
  {
   "cell_type": "code",
   "execution_count": null,
   "id": "25a4ebb6",
   "metadata": {
    "scrolled": false
   },
   "outputs": [],
   "source": [
    "from src.graph import visualize\n",
    "from src.recommender import train_mf, reviews_dataset, evaluate_recommendations\n",
    "from src.tags import PytorchWordEmbedding"
   ]
  },
  {
   "cell_type": "code",
   "execution_count": null,
   "id": "f98d50a6",
   "metadata": {},
   "outputs": [],
   "source": [
    "reviews_train, reviews_validation, reviews_test, images = reviews_dataset()"
   ]
  },
  {
   "cell_type": "code",
   "execution_count": null,
   "id": "e518c1e8",
   "metadata": {},
   "outputs": [],
   "source": [
    "reviews_train"
   ]
  },
  {
   "cell_type": "code",
   "execution_count": null,
   "id": "90539671",
   "metadata": {},
   "outputs": [],
   "source": [
    "recommender = train_knn(reviews_train, word_embedding)"
   ]
  },
  {
   "cell_type": "code",
   "execution_count": null,
   "id": "b34d8054",
   "metadata": {},
   "outputs": [],
   "source": [
    "visualize(recommender.graph, {vertex: vertex.id for vertex in recommender.graph.vertices})"
   ]
  },
  {
   "cell_type": "code",
   "execution_count": null,
   "id": "e0c9c33b",
   "metadata": {},
   "outputs": [],
   "source": [
    "evaluate_recommendations(recommender, reviews_validation)"
   ]
  },
  {
   "cell_type": "code",
   "execution_count": null,
   "id": "f7f69885",
   "metadata": {},
   "outputs": [],
   "source": [
    "print(\"hi\")"
   ]
  },
  {
   "cell_type": "code",
   "execution_count": null,
   "id": "67f27786",
   "metadata": {},
   "outputs": [],
   "source": []
  }
 ],
 "metadata": {
  "kernelspec": {
   "display_name": "Python 3 (ipykernel)",
   "language": "python",
   "name": "python3"
  },
  "language_info": {
   "codemirror_mode": {
    "name": "ipython",
    "version": 3
   },
   "file_extension": ".py",
   "mimetype": "text/x-python",
   "name": "python",
   "nbconvert_exporter": "python",
   "pygments_lexer": "ipython3",
   "version": "3.9.12"
  }
 },
 "nbformat": 4,
 "nbformat_minor": 5
}
