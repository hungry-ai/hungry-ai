{
 "cells": [
  {
   "cell_type": "code",
   "execution_count": 1,
   "id": "7e515e78",
   "metadata": {},
   "outputs": [],
   "source": [
    "%reload_ext autoreload\n",
    "%autoreload 2\n",
    "\n",
    "import os\n",
    "import sys\n",
    "sys.path.insert(1, os.path.join(sys.path[0], '..'))"
   ]
  },
  {
   "cell_type": "code",
   "execution_count": 2,
   "id": "25a4ebb6",
   "metadata": {
    "scrolled": false
   },
   "outputs": [],
   "source": [
    "import numpy as np\n",
    "import pandas as pd\n",
    "import time\n",
    "\n",
    "from src.fitting import train_mf_native, reviews_dataset, evaluate_recommendations\n",
    "from src.fitting.mf_native import preprocess, get_reviews_by_user, update_X, update_Y, get_loss"
   ]
  },
  {
   "cell_type": "code",
   "execution_count": 3,
   "id": "f98d50a6",
   "metadata": {},
   "outputs": [],
   "source": [
    "reviews_train, reviews_validation, reviews_test, images = reviews_dataset()"
   ]
  },
  {
   "cell_type": "code",
   "execution_count": null,
   "id": "726ea099",
   "metadata": {},
   "outputs": [
    {
     "name": "stdout",
     "output_type": "stream",
     "text": [
      "als_epoch=0\n",
      "Computing X\n",
      "136.79s\n",
      "Computing Y\n",
      "epoch=100000, elapsed: 18.14s, average: 18.14s, delta_Y_size=1.19e+04, Y_size=2.51e+04, percent_change=4.74e-01\n",
      "epoch=200000, elapsed: 36.33s, average: 18.17s, delta_Y_size=8.54e+03, Y_size=2.28e+04, percent_change=3.74e-01\n",
      "epoch=300000, elapsed: 53.83s, average: 17.94s, delta_Y_size=7.04e+03, Y_size=2.10e+04, percent_change=3.35e-01\n",
      "epoch=400000, elapsed: 72.02s, average: 18.00s, delta_Y_size=6.26e+03, Y_size=1.95e+04, percent_change=3.21e-01\n",
      "epoch=500000, elapsed: 90.52s, average: 18.10s, delta_Y_size=5.61e+03, Y_size=1.83e+04, percent_change=3.06e-01\n",
      "epoch=600000, elapsed: 108.59s, average: 18.10s, delta_Y_size=5.12e+03, Y_size=1.73e+04, percent_change=2.96e-01\n",
      "epoch=700000, elapsed: 126.14s, average: 18.02s, delta_Y_size=4.88e+03, Y_size=1.65e+04, percent_change=2.96e-01\n",
      "epoch=800000, elapsed: 143.64s, average: 17.95s, delta_Y_size=4.44e+03, Y_size=1.57e+04, percent_change=2.83e-01\n",
      "epoch=900000, elapsed: 161.02s, average: 17.89s, delta_Y_size=4.34e+03, Y_size=1.51e+04, percent_change=2.88e-01\n",
      "epoch=1000000, elapsed: 178.30s, average: 17.83s, delta_Y_size=4.08e+03, Y_size=1.46e+04, percent_change=2.80e-01\n",
      "178.30s\n",
      "Computing loss\n",
      "loss=2.5607126295313223\n",
      "59.30s\n",
      "als_epoch=1\n",
      "Computing X\n",
      "110.79s\n",
      "Computing Y\n",
      "epoch=100000, elapsed: 18.45s, average: 18.45s, delta_Y_size=5.60e+03, Y_size=1.32e+04, percent_change=4.25e-01\n",
      "epoch=200000, elapsed: 36.71s, average: 18.36s, delta_Y_size=3.64e+03, Y_size=1.23e+04, percent_change=2.97e-01\n",
      "epoch=300000, elapsed: 54.79s, average: 18.26s, delta_Y_size=3.00e+03, Y_size=1.16e+04, percent_change=2.59e-01\n",
      "epoch=400000, elapsed: 72.98s, average: 18.25s, delta_Y_size=2.67e+03, Y_size=1.10e+04, percent_change=2.42e-01\n",
      "epoch=500000, elapsed: 91.08s, average: 18.22s, delta_Y_size=2.48e+03, Y_size=1.06e+04, percent_change=2.35e-01\n",
      "epoch=600000, elapsed: 108.48s, average: 18.08s, delta_Y_size=2.30e+03, Y_size=1.02e+04, percent_change=2.26e-01\n",
      "epoch=700000, elapsed: 126.01s, average: 18.00s, delta_Y_size=2.17e+03, Y_size=9.89e+03, percent_change=2.20e-01\n",
      "epoch=800000, elapsed: 144.28s, average: 18.03s, delta_Y_size=2.08e+03, Y_size=9.62e+03, percent_change=2.16e-01\n",
      "epoch=900000, elapsed: 162.43s, average: 18.05s, delta_Y_size=2.06e+03, Y_size=9.40e+03, percent_change=2.19e-01\n",
      "epoch=1000000, elapsed: 180.70s, average: 18.07s, delta_Y_size=1.98e+03, Y_size=9.23e+03, percent_change=2.14e-01\n",
      "180.70s\n",
      "Computing loss\n",
      "loss=2.044694195110039\n",
      "60.47s\n",
      "als_epoch=2\n",
      "Computing X\n",
      "112.55s\n",
      "Computing Y\n",
      "epoch=100000, elapsed: 17.77s, average: 17.77s, delta_Y_size=3.00e+03, Y_size=8.51e+03, percent_change=3.52e-01\n",
      "epoch=200000, elapsed: 35.65s, average: 17.83s, delta_Y_size=1.77e+03, Y_size=8.08e+03, percent_change=2.19e-01\n",
      "epoch=300000, elapsed: 53.43s, average: 17.81s, delta_Y_size=1.46e+03, Y_size=7.79e+03, percent_change=1.87e-01\n",
      "epoch=400000, elapsed: 71.24s, average: 17.81s, delta_Y_size=1.34e+03, Y_size=7.56e+03, percent_change=1.78e-01\n",
      "epoch=500000, elapsed: 89.24s, average: 17.85s, delta_Y_size=1.28e+03, Y_size=7.38e+03, percent_change=1.74e-01\n",
      "epoch=600000, elapsed: 107.00s, average: 17.83s, delta_Y_size=1.23e+03, Y_size=7.22e+03, percent_change=1.70e-01\n",
      "epoch=700000, elapsed: 125.02s, average: 17.86s, delta_Y_size=1.21e+03, Y_size=7.11e+03, percent_change=1.71e-01\n",
      "epoch=800000, elapsed: 142.64s, average: 17.83s, delta_Y_size=1.18e+03, Y_size=7.01e+03, percent_change=1.68e-01\n",
      "epoch=900000, elapsed: 160.59s, average: 17.84s, delta_Y_size=1.16e+03, Y_size=6.93e+03, percent_change=1.67e-01\n",
      "epoch=1000000, elapsed: 178.58s, average: 17.86s, delta_Y_size=1.14e+03, Y_size=6.86e+03, percent_change=1.66e-01\n",
      "178.58s\n",
      "Computing loss\n",
      "loss=1.648782117528275\n",
      "54.97s\n",
      "als_epoch=3\n",
      "Computing X\n",
      "112.94s\n",
      "Computing Y\n",
      "epoch=100000, elapsed: 18.32s, average: 18.32s, delta_Y_size=1.89e+03, Y_size=6.42e+03, percent_change=2.94e-01\n",
      "epoch=200000, elapsed: 35.97s, average: 17.98s, delta_Y_size=1.02e+03, Y_size=6.20e+03, percent_change=1.65e-01\n",
      "epoch=300000, elapsed: 53.67s, average: 17.89s, delta_Y_size=8.48e+02, Y_size=6.05e+03, percent_change=1.40e-01\n",
      "epoch=400000, elapsed: 71.31s, average: 17.83s, delta_Y_size=7.94e+02, Y_size=5.94e+03, percent_change=1.34e-01\n",
      "epoch=500000, elapsed: 89.56s, average: 17.91s, delta_Y_size=7.91e+02, Y_size=5.86e+03, percent_change=1.35e-01\n",
      "epoch=600000, elapsed: 108.10s, average: 18.02s, delta_Y_size=7.65e+02, Y_size=5.80e+03, percent_change=1.32e-01\n",
      "epoch=700000, elapsed: 126.43s, average: 18.06s, delta_Y_size=7.46e+02, Y_size=5.74e+03, percent_change=1.30e-01\n",
      "epoch=800000, elapsed: 144.84s, average: 18.11s, delta_Y_size=7.48e+02, Y_size=5.70e+03, percent_change=1.31e-01\n"
     ]
    }
   ],
   "source": [
    "train_data=reviews_train\n",
    "d=20\n",
    "alpha=.1\n",
    "beta=.1\n",
    "max_als_epochs=10\n",
    "sgd_learning_rate=.1\n",
    "max_sgd_epochs=1000000\n",
    "sgd_batch_size=1\n",
    "\n",
    "train_data, I, tags, n, m, k = preprocess(train_data, images)\n",
    "\n",
    "image_indices, ratings, start_indices, end_indices = get_reviews_by_user(train_data)\n",
    "\n",
    "X = np.random.normal(size=(n, d))\n",
    "Y = np.random.normal(size=(k, d))\n",
    "\n",
    "for als_epoch in range(max_als_epochs):\n",
    "    print(f\"{als_epoch=}\")\n",
    "\n",
    "    print(\"Computing X\")\n",
    "    start = time.time()\n",
    "    update_X(\n",
    "        X=X,\n",
    "        Y=Y,\n",
    "        I=I,\n",
    "        image_indices=image_indices,\n",
    "        ratings=ratings,\n",
    "        start_indices=start_indices,\n",
    "        end_indices=end_indices,\n",
    "        n=n,\n",
    "        d=d,\n",
    "        alpha=alpha,\n",
    "    )\n",
    "    end = time.time()\n",
    "    print(f\"{end - start:.2f}s\")\n",
    "\n",
    "    print(\"Computing Y\")\n",
    "    start = time.time()\n",
    "    update_Y(\n",
    "        X=X,\n",
    "        Y=Y,\n",
    "        I=I,\n",
    "        image_indices=image_indices,\n",
    "        ratings=ratings,\n",
    "        start_indices=start_indices,\n",
    "        end_indices=end_indices,\n",
    "        n=n,\n",
    "        k=k,\n",
    "        d=d,\n",
    "        beta=beta,\n",
    "        learning_rate=sgd_learning_rate,\n",
    "        max_epochs=max_sgd_epochs,\n",
    "        batch_size=sgd_batch_size,\n",
    "    )\n",
    "    end = time.time()\n",
    "    print(f\"{end - start:.2f}s\")\n",
    "\n",
    "    print(\"Computing loss\")\n",
    "    start = time.time()\n",
    "    loss = get_loss(\n",
    "        X=X,\n",
    "        Y=Y,\n",
    "        I=I,\n",
    "        image_indices=image_indices,\n",
    "        ratings=ratings,\n",
    "        start_indices=start_indices,\n",
    "        end_indices=end_indices,\n",
    "        n=n,\n",
    "        k=k,\n",
    "        d=d,\n",
    "        alpha=alpha,\n",
    "        beta=beta,\n",
    "    )\n",
    "    print(f\"{loss=}\")\n",
    "    end = time.time()\n",
    "    print(f\"{end - start:.2f}s\")"
   ]
  },
  {
   "cell_type": "code",
   "execution_count": null,
   "id": "371c3acf",
   "metadata": {},
   "outputs": [
    {
     "name": "stdout",
     "output_type": "stream",
     "text": [
      "als_epoch=0\n",
      "Computing X\n"
     ]
    }
   ],
   "source": [
    "recommender = train_mf_native(\n",
    "    train_data=reviews_train,\n",
    "    images=images,\n",
    "    d=20,\n",
    "    alpha=.1,\n",
    "    beta=.1,\n",
    "    max_als_epochs=10,\n",
    "    sgd_learning_rate=.1,\n",
    "    max_sgd_epochs=1000000,\n",
    "    sgd_batch_size=1,\n",
    ")"
   ]
  },
  {
   "cell_type": "code",
   "execution_count": null,
   "id": "588406a4",
   "metadata": {},
   "outputs": [],
   "source": [
    "reviews_validation_by_user = reviews_validation.groupby(\"user_index\").apply(lambda group: (group[\"image_index\"].to_numpy(), group[\"rating\"].to_numpy()))"
   ]
  },
  {
   "cell_type": "code",
   "execution_count": null,
   "id": "06538343",
   "metadata": {},
   "outputs": [],
   "source": [
    "validation_loss = 1/n * sum(1 / len(image_ids) * sum((ratings - image_tags[image_ids] @ (Y @ X[u])) ** 2) for u, (image_ids, ratings) in reviews_validation_by_user.items() if len(image_ids) > 0)\n",
    "validation_loss"
   ]
  },
  {
   "cell_type": "code",
   "execution_count": null,
   "id": "90539671",
   "metadata": {},
   "outputs": [],
   "source": [
    "recommender = train_knn(reviews_train, word_embedding)"
   ]
  },
  {
   "cell_type": "code",
   "execution_count": null,
   "id": "e0c9c33b",
   "metadata": {},
   "outputs": [],
   "source": [
    "evaluate_recommendations(recommender, reviews_validation)"
   ]
  }
 ],
 "metadata": {
  "kernelspec": {
   "display_name": "Python 3 (ipykernel)",
   "language": "python",
   "name": "python3"
  },
  "language_info": {
   "codemirror_mode": {
    "name": "ipython",
    "version": 3
   },
   "file_extension": ".py",
   "mimetype": "text/x-python",
   "name": "python",
   "nbconvert_exporter": "python",
   "pygments_lexer": "ipython3",
   "version": "3.10.9"
  }
 },
 "nbformat": 4,
 "nbformat_minor": 5
}
