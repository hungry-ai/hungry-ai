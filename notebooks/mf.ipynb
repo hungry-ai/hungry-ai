{
 "cells": [
  {
   "cell_type": "code",
   "execution_count": 1,
   "id": "7e515e78",
   "metadata": {},
   "outputs": [],
   "source": [
    "%reload_ext autoreload\n",
    "%autoreload 2\n",
    "\n",
    "import os\n",
    "import sys\n",
    "sys.path.insert(1, os.path.join(sys.path[0], '..'))"
   ]
  },
  {
   "cell_type": "code",
   "execution_count": 2,
   "id": "25a4ebb6",
   "metadata": {
    "scrolled": false
   },
   "outputs": [],
   "source": [
    "import numpy as np\n",
    "import pandas as pd\n",
    "import scipy.linalg\n",
    "import time\n",
    "\n",
    "from src.graph import visualize\n",
    "from src.recommender import train_mf, reviews_dataset, evaluate_recommendations\n",
    "from src.recommender.mf_recommender import train_mf\n",
    "from src.tags import PytorchWordEmbedding"
   ]
  },
  {
   "cell_type": "code",
   "execution_count": 3,
   "id": "f98d50a6",
   "metadata": {},
   "outputs": [],
   "source": [
    "reviews_train, reviews_validation, reviews_test, images = reviews_dataset()"
   ]
  },
  {
   "cell_type": "code",
   "execution_count": 4,
   "id": "30523e7a",
   "metadata": {},
   "outputs": [
    {
     "name": "stdout",
     "output_type": "stream",
     "text": [
      "Precomputing reviews_by_user\n",
      "Elapsed: 46.18s\n",
      "Computing X\n",
      "[    0 35968 10499 32248 26487  9514 38288 23690  5346 21356 37936 38944\n",
      " 13802 20983 52820 10748 22679  7967  5207  7048 71851  4910  3656   174\n",
      "  8715  2350 83690  8948 41410  2230 33478  7056 84910  2055 54357  5950\n",
      " 91352]\n",
      "[5. 5. 5. 5. 5. 5. 5. 5. 5. 5. 5. 5. 5. 5. 5. 4. 5. 4. 3. 5. 4. 5. 5. 5.\n",
      " 4. 5. 5. 5. 5. 5. 5. 4. 5. 5. 5. 5. 5.]\n",
      "[     1    745  63310  27030   7343   5938  12248  12248  12248  16451\n",
      "  34537  17645  24787   6370  20436  26073  58840  41724  38499  12447\n",
      "  75634  44786 113232  17866   7736  22310  20087   9719  18799  17522\n",
      "  13181  13181  12179   1681   1681  27358  38370   6598  17571   7480\n",
      "   4927  20219  15001  83022  99226    108   1106  12775  84360  39823\n",
      "  19299   3405   3405   5113   1395   7508   7063  58194  21753  52323\n",
      "   2048  77964   5705  10035  42351  39066  59455  72639   9515  22350\n",
      "   5447  10728 103098  91462   9004  34646  39386  13324  13324  10090\n",
      "  10090   3844  19701  17415  26576  21772   2724   4678   4897   4482\n",
      "  19541 104401  37819  19780  14845  19654  19563  71670    559  35202\n",
      "  56692  49632  21313  81069]\n",
      "[1. 4. 2. 4. 5. 5. 5. 5. 3. 4. 4. 4. 3. 5. 5. 1. 5. 5. 3. 1. 4. 5. 2. 5.\n",
      " 4. 5. 5. 5. 5. 1. 4. 3. 5. 3. 2. 5. 5. 4. 3. 4. 3. 1. 5. 4. 4. 4. 5. 4.\n",
      " 2. 5. 3. 4. 3. 5. 3. 5. 4. 3. 4. 5. 5. 3. 4. 3. 5. 3. 5. 4. 3. 5. 1. 5.\n",
      " 4. 5. 2. 5. 5. 4. 3. 4. 4. 4. 4. 1. 4. 3. 2. 2. 5. 4. 4. 4. 2. 4. 4. 5.\n",
      " 4. 4. 1. 5. 5. 5. 2. 4.]\n",
      "[     2  12731  12731  61657   7430   7430   8579   8579  57698   4169\n",
      "  33952  15286   4794  25728  44320  20899  94491  21542 116262   8176\n",
      "  40543  95809   6754  18798  26661  25941  25941  25489   7330  73263\n",
      "  68242 124070     72 110250  20912 129242]\n",
      "[4. 5. 5. 1. 5. 5. 5. 5. 2. 4. 4. 3. 5. 5. 5. 5. 1. 5. 3. 5. 5. 5. 5. 5.\n",
      " 5. 5. 5. 5. 5. 5. 4. 1. 5. 1. 5. 5.]\n",
      "[    3 13391 13391  6562 13596  6511 18477  8949  2715]\n",
      "[3. 5. 5. 5. 5. 5. 2. 5. 5.]\n",
      "[    4 36569 50363]\n",
      "[5. 5. 1.]\n",
      "[ 1681     5 74379  9303 62699    23 31193 11055 11292  6248 29356 30233\n",
      " 14178 47015 33224]\n",
      "[4. 5. 5. 5. 5. 5. 4. 5. 2. 5. 3. 4. 5. 5. 2.]\n"
     ]
    },
    {
     "ename": "RuntimeError",
     "evalue": "",
     "output_type": "error",
     "traceback": [
      "\u001b[0;31m---------------------------------------------------------------------------\u001b[0m",
      "\u001b[0;31mRuntimeError\u001b[0m                              Traceback (most recent call last)",
      "Cell \u001b[0;32mIn[4], line 1\u001b[0m\n\u001b[0;32m----> 1\u001b[0m recommender \u001b[38;5;241m=\u001b[39m \u001b[43mtrain_mf\u001b[49m\u001b[43m(\u001b[49m\n\u001b[1;32m      2\u001b[0m \u001b[43m    \u001b[49m\u001b[43mreviews_train\u001b[49m\u001b[43m,\u001b[49m\n\u001b[1;32m      3\u001b[0m \u001b[43m    \u001b[49m\u001b[43mimages\u001b[49m\u001b[43m,\u001b[49m\n\u001b[1;32m      4\u001b[0m \u001b[43m    \u001b[49m\u001b[43md\u001b[49m\u001b[43m \u001b[49m\u001b[38;5;241;43m=\u001b[39;49m\u001b[43m \u001b[49m\u001b[38;5;241;43m20\u001b[39;49m\u001b[43m,\u001b[49m\n\u001b[1;32m      5\u001b[0m \u001b[43m    \u001b[49m\u001b[43malpha\u001b[49m\u001b[43m \u001b[49m\u001b[38;5;241;43m=\u001b[39;49m\u001b[43m \u001b[49m\u001b[38;5;241;43m.01\u001b[39;49m\u001b[43m,\u001b[49m\n\u001b[1;32m      6\u001b[0m \u001b[43m    \u001b[49m\u001b[43mbeta\u001b[49m\u001b[43m \u001b[49m\u001b[38;5;241;43m=\u001b[39;49m\u001b[43m \u001b[49m\u001b[38;5;241;43m.01\u001b[39;49m\u001b[43m,\u001b[49m\n\u001b[1;32m      7\u001b[0m \u001b[43m    \u001b[49m\u001b[43mals_epochs\u001b[49m\u001b[43m \u001b[49m\u001b[38;5;241;43m=\u001b[39;49m\u001b[43m \u001b[49m\u001b[38;5;241;43m1\u001b[39;49m\u001b[43m,\u001b[49m\n\u001b[1;32m      8\u001b[0m \u001b[43m    \u001b[49m\u001b[43msgd_learning_rate\u001b[49m\u001b[43m \u001b[49m\u001b[38;5;241;43m=\u001b[39;49m\u001b[43m \u001b[49m\u001b[38;5;241;43m.1\u001b[39;49m\u001b[43m,\u001b[49m\n\u001b[1;32m      9\u001b[0m \u001b[43m    \u001b[49m\u001b[43msgd_epochs\u001b[49m\u001b[43m \u001b[49m\u001b[38;5;241;43m=\u001b[39;49m\u001b[43m \u001b[49m\u001b[38;5;241;43m10\u001b[39;49m\u001b[43m,\u001b[49m\n\u001b[1;32m     10\u001b[0m \u001b[43m    \u001b[49m\u001b[43msgd_batch_size\u001b[49m\u001b[43m \u001b[49m\u001b[38;5;241;43m=\u001b[39;49m\u001b[43m \u001b[49m\u001b[38;5;241;43m10\u001b[39;49m\u001b[43m,\u001b[49m\n\u001b[1;32m     11\u001b[0m \u001b[43m)\u001b[49m\n",
      "File \u001b[0;32m~/Documents/hungry-ai/notebooks/../src/recommender/mf_recommender.py:368\u001b[0m, in \u001b[0;36mtrain_mf\u001b[0;34m(train_data, images, d, alpha, beta, als_epochs, sgd_learning_rate, sgd_epochs, sgd_batch_size)\u001b[0m\n\u001b[1;32m    365\u001b[0m \u001b[38;5;28mprint\u001b[39m(\u001b[38;5;124m\"\u001b[39m\u001b[38;5;124mComputing X\u001b[39m\u001b[38;5;124m\"\u001b[39m)\n\u001b[1;32m    367\u001b[0m start \u001b[38;5;241m=\u001b[39m time\u001b[38;5;241m.\u001b[39mtime()\n\u001b[0;32m--> 368\u001b[0m \u001b[43msolve_X\u001b[49m\u001b[43m(\u001b[49m\n\u001b[1;32m    369\u001b[0m \u001b[43m    \u001b[49m\u001b[43mX\u001b[49m\u001b[38;5;241;43m=\u001b[39;49m\u001b[43mX\u001b[49m\u001b[43m,\u001b[49m\n\u001b[1;32m    370\u001b[0m \u001b[43m    \u001b[49m\u001b[43mY\u001b[49m\u001b[38;5;241;43m=\u001b[39;49m\u001b[43mY\u001b[49m\u001b[43m,\u001b[49m\n\u001b[1;32m    371\u001b[0m \u001b[43m    \u001b[49m\u001b[43mI\u001b[49m\u001b[38;5;241;43m=\u001b[39;49m\u001b[43mI\u001b[49m\u001b[43m,\u001b[49m\n\u001b[1;32m    372\u001b[0m \u001b[43m    \u001b[49m\u001b[43mimage_ids_by_user\u001b[49m\u001b[38;5;241;43m=\u001b[39;49m\u001b[43mimage_ids_by_user\u001b[49m\u001b[43m,\u001b[49m\n\u001b[1;32m    373\u001b[0m \u001b[43m    \u001b[49m\u001b[43mratings_by_user\u001b[49m\u001b[38;5;241;43m=\u001b[39;49m\u001b[43mratings_by_user\u001b[49m\u001b[43m,\u001b[49m\n\u001b[1;32m    374\u001b[0m \u001b[43m    \u001b[49m\u001b[43mn\u001b[49m\u001b[38;5;241;43m=\u001b[39;49m\u001b[43mn\u001b[49m\u001b[43m,\u001b[49m\n\u001b[1;32m    375\u001b[0m \u001b[43m    \u001b[49m\u001b[43md\u001b[49m\u001b[38;5;241;43m=\u001b[39;49m\u001b[43md\u001b[49m\u001b[43m,\u001b[49m\n\u001b[1;32m    376\u001b[0m \u001b[43m    \u001b[49m\u001b[43malpha\u001b[49m\u001b[38;5;241;43m=\u001b[39;49m\u001b[43malpha\u001b[49m\u001b[43m,\u001b[49m\n\u001b[1;32m    377\u001b[0m \u001b[43m\u001b[49m\u001b[43m)\u001b[49m\n\u001b[1;32m    378\u001b[0m end \u001b[38;5;241m=\u001b[39m time\u001b[38;5;241m.\u001b[39mtime()\n\u001b[1;32m    379\u001b[0m log_elapsed(start, end)\n",
      "File \u001b[0;32m~/Documents/hungry-ai/notebooks/../src/recommender/mf_recommender.py:211\u001b[0m, in \u001b[0;36msolve_X\u001b[0;34m(X, Y, I, image_ids_by_user, ratings_by_user, n, d, alpha)\u001b[0m\n\u001b[1;32m    208\u001b[0m \u001b[38;5;28mprint\u001b[39m(ratings)\n\u001b[1;32m    210\u001b[0m \u001b[38;5;28;01mif\u001b[39;00m u \u001b[38;5;241m>\u001b[39m\u001b[38;5;241m=\u001b[39m \u001b[38;5;241m5\u001b[39m:\n\u001b[0;32m--> 211\u001b[0m     \u001b[38;5;28;01mraise\u001b[39;00m \u001b[38;5;167;01mRuntimeError\u001b[39;00m\n\u001b[1;32m    213\u001b[0m A \u001b[38;5;241m=\u001b[39m alpha \u001b[38;5;241m/\u001b[39m (n \u001b[38;5;241m*\u001b[39m d) \u001b[38;5;241m*\u001b[39m np\u001b[38;5;241m.\u001b[39meye(d)\n\u001b[1;32m    214\u001b[0m b \u001b[38;5;241m=\u001b[39m np\u001b[38;5;241m.\u001b[39mzeros(d)\n",
      "\u001b[0;31mRuntimeError\u001b[0m: "
     ]
    }
   ],
   "source": [
    "recommender = train_mf(\n",
    "    reviews_train,\n",
    "    images,\n",
    "    d = 20,\n",
    "    alpha = .01,\n",
    "    beta = .01,\n",
    "    als_epochs = 1,\n",
    "    sgd_learning_rate = .1,\n",
    "    sgd_epochs = 10,\n",
    "    sgd_batch_size = 10,\n",
    ")"
   ]
  },
  {
   "cell_type": "code",
   "execution_count": null,
   "id": "ea52a6cb",
   "metadata": {},
   "outputs": [],
   "source": [
    "reviews_validation_by_user = reviews_validation.groupby(\"user_index\").apply(lambda group: (group[\"image_index\"].to_numpy(), group[\"rating\"].to_numpy()))"
   ]
  },
  {
   "cell_type": "code",
   "execution_count": null,
   "id": "e207fb24",
   "metadata": {},
   "outputs": [],
   "source": [
    "validation_loss = 1/n * sum(1 / len(image_ids) * sum((ratings - image_tags[image_ids] @ (Y @ X[u])) ** 2) for u, (image_ids, ratings) in reviews_validation_by_user.items() if len(image_ids) > 0)\n",
    "validation_loss"
   ]
  },
  {
   "cell_type": "code",
   "execution_count": null,
   "id": "90539671",
   "metadata": {},
   "outputs": [],
   "source": [
    "recommender = train_knn(reviews_train, word_embedding)"
   ]
  },
  {
   "cell_type": "code",
   "execution_count": null,
   "id": "b34d8054",
   "metadata": {},
   "outputs": [],
   "source": [
    "visualize(recommender.graph, {vertex: vertex.id for vertex in recommender.graph.vertices})"
   ]
  },
  {
   "cell_type": "code",
   "execution_count": null,
   "id": "e0c9c33b",
   "metadata": {},
   "outputs": [],
   "source": [
    "evaluate_recommendations(recommender, reviews_validation)"
   ]
  },
  {
   "cell_type": "code",
   "execution_count": null,
   "id": "67f27786",
   "metadata": {},
   "outputs": [],
   "source": []
  }
 ],
 "metadata": {
  "kernelspec": {
   "display_name": "Python 3 (ipykernel)",
   "language": "python",
   "name": "python3"
  },
  "language_info": {
   "codemirror_mode": {
    "name": "ipython",
    "version": 3
   },
   "file_extension": ".py",
   "mimetype": "text/x-python",
   "name": "python",
   "nbconvert_exporter": "python",
   "pygments_lexer": "ipython3",
   "version": "3.10.9"
  }
 },
 "nbformat": 4,
 "nbformat_minor": 5
}
