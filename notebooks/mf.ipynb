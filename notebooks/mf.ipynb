{
 "cells": [
  {
   "cell_type": "code",
   "execution_count": 1,
   "id": "7e515e78",
   "metadata": {},
   "outputs": [],
   "source": [
    "%reload_ext autoreload\n",
    "%autoreload 2\n",
    "\n",
    "import os\n",
    "import sys\n",
    "sys.path.insert(1, os.path.join(sys.path[0], '..'))"
   ]
  },
  {
   "cell_type": "code",
   "execution_count": 2,
   "id": "25a4ebb6",
   "metadata": {
    "scrolled": false
   },
   "outputs": [],
   "source": [
    "import numpy as np\n",
    "import pandas as pd\n",
    "import time\n",
    "\n",
    "from src.fitting import train_mf_native, reviews_dataset, evaluate_recommendations\n",
    "from src.fitting.mf_native import preprocess, get_reviews_by_user, update_X, get_loss"
   ]
  },
  {
   "cell_type": "code",
   "execution_count": 3,
   "id": "f98d50a6",
   "metadata": {},
   "outputs": [],
   "source": [
    "reviews_train, reviews_validation, reviews_test, images = reviews_dataset()"
   ]
  },
  {
   "cell_type": "code",
   "execution_count": null,
   "id": "371c3acf",
   "metadata": {},
   "outputs": [
    {
     "name": "stdout",
     "output_type": "stream",
     "text": [
      "als_epoch=0\n",
      "Computing X\n",
      "199.72s\n",
      "Computing Y\n",
      "0.04s\n",
      "Computing loss\n"
     ]
    }
   ],
   "source": [
    "recommender = train_mf_native(\n",
    "    train_data=reviews_train,\n",
    "    images=images,\n",
    "    d=20,\n",
    "    alpha=.01,\n",
    "    beta=.01,\n",
    "    max_als_epochs=10,\n",
    "    sgd_learning_rate=.001,\n",
    "    max_sgd_epochs=100000,\n",
    "    sgd_batch_size=10,\n",
    ")"
   ]
  },
  {
   "cell_type": "code",
   "execution_count": 5,
   "id": "e5ceae37",
   "metadata": {},
   "outputs": [
    {
     "name": "stdout",
     "output_type": "stream",
     "text": [
      "Computing X\n",
      "181.77s\n"
     ]
    }
   ],
   "source": [
    "print(\"Computing X\")\n",
    "start = time.time()\n",
    "update_X(\n",
    "    X=X,\n",
    "    Y=Y,\n",
    "    I=I,\n",
    "    image_indices=image_indices,\n",
    "    ratings=ratings,\n",
    "    start_indices=start_indices,\n",
    "    end_indices=end_indices,\n",
    "    n=n,\n",
    "    d=d,\n",
    "    alpha=alpha,\n",
    ")\n",
    "end = time.time()\n",
    "print(f\"{end - start:.2f}s\")"
   ]
  },
  {
   "cell_type": "code",
   "execution_count": 6,
   "id": "c3dbdcab",
   "metadata": {},
   "outputs": [],
   "source": [
    "import random\n",
    "\n",
    "Y = np.random.normal(size=(k, d))\n",
    "\n",
    "learning_rate = .001\n",
    "beta_1, beta_2 = .9, .999\n",
    "sample_size = 10\n",
    "eps = 1e-8\n",
    "beta_1_pow = beta_1\n",
    "beta_2_pow = beta_2"
   ]
  },
  {
   "cell_type": "code",
   "execution_count": 7,
   "id": "96114bbd",
   "metadata": {},
   "outputs": [
    {
     "name": "stdout",
     "output_type": "stream",
     "text": [
      "10000\n",
      "4.794757785259492\n",
      "20000\n",
      "1.3619237607658938\n",
      "30000\n",
      "0.7192399222513858\n",
      "40000\n",
      "0.4351773335456885\n",
      "50000\n",
      "0.3034218034629517\n",
      "60000\n",
      "0.22348204564111568\n",
      "70000\n",
      "0.17385626417662686\n",
      "80000\n",
      "0.14403376756660274\n",
      "90000\n",
      "0.1220951673030781\n",
      "100000\n",
      "0.10670580548837964\n"
     ]
    }
   ],
   "source": [
    "m = np.zeros((k, d))\n",
    "v = np.zeros((k, d))\n",
    "\n",
    "loss = 0.0\n",
    "\n",
    "for epoch in range(1, 100000+1):\n",
    "    if epoch % 10000 == 0:\n",
    "        print(epoch)\n",
    "        print(loss / (10000 * sample_size) + beta / (k * d) * (Y ** 2).sum())\n",
    "        loss = 0.0\n",
    "    \n",
    "    g = np.zeros((k, d))\n",
    "    \n",
    "    sample = random.sample(range(n), sample_size)\n",
    "    for u in sample:\n",
    "        start_index = start_indices[u]\n",
    "        end_index = end_indices[u]\n",
    "        \n",
    "        x_u = X[u]\n",
    "        r_u = ratings[start_index : end_index]\n",
    "        I_u = I[image_indices[start_index : end_index]]\n",
    "        \n",
    "        g -= 2/(end_index - start_index) * ((r_u - (I_u @ Y) @ x_u) @ I_u).reshape(-1, 1) @ x_u.reshape(1, -1)\n",
    "        \n",
    "        loss += ((r_u - (I_u @ Y) @ x_u) ** 2).sum() / (end_index - start_index)\n",
    "    \n",
    "    g = g / sample_size + 2 * beta / (k * d) * Y\n",
    "    \n",
    "    m = beta_1 * m + (1 - beta_1) * g\n",
    "    v = beta_2 * v + (1 - beta_2) * (g ** 2)\n",
    "    \n",
    "    update = learning_rate * (m / (1. - beta_1_pow)) / (np.sqrt(v  / (1. - beta_2_pow)) + eps)  # ADAM\n",
    "    # update = learning_rate * g  # SGD\n",
    "    Y -= update\n",
    "    \n",
    "    beta_1_pow *= beta_1\n",
    "    beta_2_pow *= beta_2"
   ]
  },
  {
   "cell_type": "code",
   "execution_count": null,
   "id": "309c00d4",
   "metadata": {},
   "outputs": [],
   "source": []
  }
 ],
 "metadata": {
  "kernelspec": {
   "display_name": "Python 3 (ipykernel)",
   "language": "python",
   "name": "python3"
  },
  "language_info": {
   "codemirror_mode": {
    "name": "ipython",
    "version": 3
   },
   "file_extension": ".py",
   "mimetype": "text/x-python",
   "name": "python",
   "nbconvert_exporter": "python",
   "pygments_lexer": "ipython3",
   "version": "3.10.8"
  }
 },
 "nbformat": 4,
 "nbformat_minor": 5
}
