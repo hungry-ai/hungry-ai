{
 "cells": [
  {
   "cell_type": "code",
   "execution_count": 1,
   "id": "7e515e78",
   "metadata": {},
   "outputs": [],
   "source": [
    "%reload_ext autoreload\n",
    "%autoreload 2\n",
    "\n",
    "import os\n",
    "import sys\n",
    "sys.path.insert(1, os.path.join(sys.path[0], '..'))"
   ]
  },
  {
   "cell_type": "code",
   "execution_count": 21,
   "id": "25a4ebb6",
   "metadata": {
    "scrolled": false
   },
   "outputs": [],
   "source": [
    "import numpy as np\n",
    "import pandas as pd\n",
    "import time\n",
    "\n",
    "from src.recommender import train_mf, reviews_dataset, evaluate_recommendations\n",
    "from src.recommender.mf_recommender import update_Y, preprocess, get_reviews_by_user, update_X"
   ]
  },
  {
   "cell_type": "code",
   "execution_count": 3,
   "id": "f98d50a6",
   "metadata": {},
   "outputs": [],
   "source": [
    "reviews_train, reviews_validation, reviews_test, images = reviews_dataset()"
   ]
  },
  {
   "cell_type": "code",
   "execution_count": 4,
   "id": "371c3acf",
   "metadata": {},
   "outputs": [
    {
     "name": "stdout",
     "output_type": "stream",
     "text": [
      "als_epoch=0\n",
      "Computing X\n",
      "151.95s\n",
      "Computing Y\n",
      "epoch=100000, elapsed: 22.97s, average: 22.97s, average_update_size=8.54e-04\n",
      "epoch=200000, elapsed: 46.66s, average: 23.33s, average_update_size=1.03e-03\n",
      "epoch=300000, elapsed: 69.96s, average: 23.32s, average_update_size=1.08e-03\n",
      "epoch=400000, elapsed: 90.71s, average: 22.68s, average_update_size=1.15e-03\n",
      "epoch=500000, elapsed: 109.61s, average: 21.92s, average_update_size=1.17e-03\n",
      "epoch=600000, elapsed: 129.20s, average: 21.53s, average_update_size=1.28e-03\n",
      "epoch=700000, elapsed: 148.83s, average: 21.26s, average_update_size=1.32e-03\n",
      "epoch=800000, elapsed: 168.41s, average: 21.05s, average_update_size=1.34e-03\n",
      "epoch=900000, elapsed: 188.22s, average: 20.91s, average_update_size=1.39e-03\n",
      "epoch=1000000, elapsed: 207.90s, average: 20.79s, average_update_size=1.41e-03\n",
      "207.90s\n",
      "Computing loss\n",
      "loss=2.6640424009958927\n",
      "66.72s\n",
      "als_epoch=1\n",
      "Computing X\n",
      "133.39s\n",
      "Computing Y\n",
      "epoch=100000, elapsed: 19.13s, average: 19.13s, average_update_size=5.70e-04\n",
      "epoch=200000, elapsed: 39.03s, average: 19.51s, average_update_size=5.99e-04\n",
      "epoch=300000, elapsed: 57.63s, average: 19.21s, average_update_size=6.68e-04\n",
      "epoch=400000, elapsed: 76.92s, average: 19.23s, average_update_size=6.72e-04\n",
      "epoch=500000, elapsed: 96.18s, average: 19.24s, average_update_size=7.26e-04\n",
      "epoch=600000, elapsed: 115.59s, average: 19.26s, average_update_size=7.68e-04\n",
      "epoch=700000, elapsed: 134.14s, average: 19.16s, average_update_size=7.56e-04\n",
      "epoch=800000, elapsed: 153.08s, average: 19.14s, average_update_size=7.74e-04\n",
      "epoch=900000, elapsed: 172.43s, average: 19.16s, average_update_size=8.22e-04\n",
      "epoch=1000000, elapsed: 191.77s, average: 19.18s, average_update_size=8.46e-04\n",
      "191.78s\n",
      "Computing loss\n",
      "loss=2.0796953813334866\n",
      "53.72s\n",
      "als_epoch=2\n",
      "Computing X\n",
      "106.99s\n",
      "Computing Y\n",
      "epoch=100000, elapsed: 18.79s, average: 18.79s, average_update_size=3.86e-04\n",
      "epoch=200000, elapsed: 38.12s, average: 19.06s, average_update_size=4.29e-04\n",
      "epoch=300000, elapsed: 57.39s, average: 19.13s, average_update_size=4.44e-04\n",
      "epoch=400000, elapsed: 76.75s, average: 19.19s, average_update_size=4.95e-04\n",
      "epoch=500000, elapsed: 95.71s, average: 19.14s, average_update_size=4.89e-04\n",
      "epoch=600000, elapsed: 114.70s, average: 19.12s, average_update_size=5.06e-04\n",
      "epoch=700000, elapsed: 133.23s, average: 19.03s, average_update_size=5.21e-04\n",
      "epoch=800000, elapsed: 152.46s, average: 19.06s, average_update_size=5.17e-04\n",
      "epoch=900000, elapsed: 171.79s, average: 19.09s, average_update_size=5.16e-04\n",
      "epoch=1000000, elapsed: 191.09s, average: 19.11s, average_update_size=5.43e-04\n",
      "191.09s\n",
      "Computing loss\n",
      "loss=1.6955653437983362\n",
      "52.87s\n",
      "als_epoch=3\n",
      "Computing X\n",
      "109.40s\n",
      "Computing Y\n",
      "epoch=100000, elapsed: 19.33s, average: 19.33s, average_update_size=2.70e-04\n",
      "epoch=200000, elapsed: 39.29s, average: 19.65s, average_update_size=3.21e-04\n",
      "epoch=300000, elapsed: 58.61s, average: 19.54s, average_update_size=3.39e-04\n",
      "epoch=400000, elapsed: 78.02s, average: 19.50s, average_update_size=3.45e-04\n",
      "epoch=500000, elapsed: 97.53s, average: 19.51s, average_update_size=3.59e-04\n",
      "epoch=600000, elapsed: 116.93s, average: 19.49s, average_update_size=3.78e-04\n",
      "epoch=700000, elapsed: 136.27s, average: 19.47s, average_update_size=3.59e-04\n",
      "epoch=800000, elapsed: 155.66s, average: 19.46s, average_update_size=3.83e-04\n",
      "epoch=900000, elapsed: 175.01s, average: 19.45s, average_update_size=3.99e-04\n",
      "epoch=1000000, elapsed: 194.41s, average: 19.44s, average_update_size=3.93e-04\n",
      "194.41s\n",
      "Computing loss\n",
      "loss=1.4095167630533683\n",
      "53.87s\n",
      "als_epoch=4\n",
      "Computing X\n",
      "112.91s\n",
      "Computing Y\n",
      "epoch=100000, elapsed: 18.70s, average: 18.70s, average_update_size=2.02e-04\n",
      "epoch=200000, elapsed: 38.16s, average: 19.08s, average_update_size=2.35e-04\n",
      "epoch=300000, elapsed: 57.74s, average: 19.25s, average_update_size=2.62e-04\n",
      "epoch=400000, elapsed: 77.32s, average: 19.33s, average_update_size=2.62e-04\n",
      "epoch=500000, elapsed: 96.96s, average: 19.39s, average_update_size=2.65e-04\n",
      "epoch=600000, elapsed: 116.48s, average: 19.41s, average_update_size=2.79e-04\n",
      "epoch=700000, elapsed: 135.89s, average: 19.41s, average_update_size=2.73e-04\n",
      "epoch=800000, elapsed: 155.55s, average: 19.44s, average_update_size=2.81e-04\n",
      "epoch=900000, elapsed: 174.97s, average: 19.44s, average_update_size=2.77e-04\n",
      "epoch=1000000, elapsed: 194.46s, average: 19.45s, average_update_size=2.75e-04\n",
      "194.46s\n",
      "Computing loss\n",
      "loss=1.222780913117961\n",
      "55.63s\n",
      "als_epoch=5\n",
      "Computing X\n",
      "111.44s\n",
      "Computing Y\n",
      "epoch=100000, elapsed: 19.09s, average: 19.09s, average_update_size=1.66e-04\n",
      "epoch=200000, elapsed: 38.24s, average: 19.12s, average_update_size=1.98e-04\n",
      "epoch=300000, elapsed: 57.29s, average: 19.10s, average_update_size=1.93e-04\n",
      "epoch=400000, elapsed: 76.58s, average: 19.14s, average_update_size=2.10e-04\n",
      "epoch=500000, elapsed: 95.73s, average: 19.15s, average_update_size=2.17e-04\n",
      "epoch=600000, elapsed: 113.88s, average: 18.98s, average_update_size=2.13e-04\n",
      "epoch=700000, elapsed: 133.17s, average: 19.02s, average_update_size=2.13e-04\n",
      "epoch=800000, elapsed: 152.47s, average: 19.06s, average_update_size=2.05e-04\n",
      "epoch=900000, elapsed: 171.72s, average: 19.08s, average_update_size=2.19e-04\n",
      "epoch=1000000, elapsed: 191.06s, average: 19.11s, average_update_size=2.19e-04\n",
      "191.06s\n",
      "Computing loss\n",
      "loss=1.1021834795945777\n",
      "53.76s\n",
      "als_epoch=6\n",
      "Computing X\n",
      "110.55s\n",
      "Computing Y\n",
      "epoch=100000, elapsed: 19.35s, average: 19.35s, average_update_size=1.42e-04\n",
      "epoch=200000, elapsed: 38.63s, average: 19.32s, average_update_size=1.90e-04\n",
      "epoch=300000, elapsed: 57.86s, average: 19.29s, average_update_size=1.62e-04\n",
      "epoch=400000, elapsed: 77.16s, average: 19.29s, average_update_size=1.71e-04\n",
      "epoch=500000, elapsed: 96.42s, average: 19.28s, average_update_size=1.68e-04\n",
      "epoch=600000, elapsed: 115.79s, average: 19.30s, average_update_size=1.69e-04\n",
      "epoch=700000, elapsed: 135.18s, average: 19.31s, average_update_size=1.78e-04\n",
      "epoch=800000, elapsed: 154.55s, average: 19.32s, average_update_size=1.77e-04\n",
      "epoch=900000, elapsed: 173.78s, average: 19.31s, average_update_size=1.85e-04\n",
      "epoch=1000000, elapsed: 193.17s, average: 19.32s, average_update_size=1.84e-04\n",
      "193.17s\n",
      "Computing loss\n",
      "loss=1.0166756398213999\n",
      "53.81s\n",
      "als_epoch=7\n",
      "Computing X\n",
      "109.55s\n",
      "Computing Y\n",
      "epoch=100000, elapsed: 19.43s, average: 19.43s, average_update_size=1.19e-04\n",
      "epoch=200000, elapsed: 38.81s, average: 19.41s, average_update_size=1.41e-04\n",
      "epoch=300000, elapsed: 58.16s, average: 19.39s, average_update_size=1.38e-04\n",
      "epoch=400000, elapsed: 77.47s, average: 19.37s, average_update_size=1.55e-04\n",
      "epoch=500000, elapsed: 96.78s, average: 19.36s, average_update_size=1.49e-04\n",
      "epoch=600000, elapsed: 115.98s, average: 19.33s, average_update_size=1.56e-04\n",
      "epoch=700000, elapsed: 135.05s, average: 19.29s, average_update_size=1.43e-04\n",
      "epoch=800000, elapsed: 154.22s, average: 19.28s, average_update_size=1.52e-04\n",
      "epoch=900000, elapsed: 173.34s, average: 19.26s, average_update_size=1.56e-04\n",
      "epoch=1000000, elapsed: 192.36s, average: 19.24s, average_update_size=1.62e-04\n",
      "192.36s\n",
      "Computing loss\n",
      "loss=0.9571182080779177\n",
      "53.10s\n",
      "als_epoch=8\n",
      "Computing X\n",
      "124.85s\n",
      "Computing Y\n",
      "epoch=100000, elapsed: 19.21s, average: 19.21s, average_update_size=1.14e-04\n",
      "epoch=200000, elapsed: 38.41s, average: 19.21s, average_update_size=1.20e-04\n",
      "epoch=300000, elapsed: 57.74s, average: 19.25s, average_update_size=1.23e-04\n",
      "epoch=400000, elapsed: 77.05s, average: 19.26s, average_update_size=1.27e-04\n",
      "epoch=500000, elapsed: 96.41s, average: 19.28s, average_update_size=1.26e-04\n",
      "epoch=600000, elapsed: 115.73s, average: 19.29s, average_update_size=1.22e-04\n",
      "epoch=700000, elapsed: 135.09s, average: 19.30s, average_update_size=1.23e-04\n",
      "epoch=800000, elapsed: 154.26s, average: 19.28s, average_update_size=1.35e-04\n",
      "epoch=900000, elapsed: 173.63s, average: 19.29s, average_update_size=1.36e-04\n",
      "epoch=1000000, elapsed: 193.00s, average: 19.30s, average_update_size=1.45e-04\n",
      "193.00s\n",
      "Computing loss\n",
      "loss=0.9242384014829048\n",
      "53.63s\n",
      "als_epoch=9\n",
      "Computing X\n",
      "110.01s\n",
      "Computing Y\n",
      "epoch=100000, elapsed: 19.50s, average: 19.50s, average_update_size=1.03e-04\n",
      "epoch=200000, elapsed: 38.86s, average: 19.43s, average_update_size=1.13e-04\n",
      "epoch=300000, elapsed: 58.25s, average: 19.42s, average_update_size=1.21e-04\n",
      "epoch=400000, elapsed: 77.65s, average: 19.41s, average_update_size=1.45e-04\n"
     ]
    },
    {
     "name": "stdout",
     "output_type": "stream",
     "text": [
      "epoch=500000, elapsed: 97.03s, average: 19.41s, average_update_size=1.20e-04\n",
      "epoch=600000, elapsed: 116.39s, average: 19.40s, average_update_size=1.16e-04\n",
      "epoch=700000, elapsed: 135.83s, average: 19.40s, average_update_size=1.26e-04\n",
      "epoch=800000, elapsed: 155.26s, average: 19.41s, average_update_size=1.19e-04\n",
      "epoch=900000, elapsed: 174.64s, average: 19.40s, average_update_size=1.38e-04\n",
      "epoch=1000000, elapsed: 193.99s, average: 19.40s, average_update_size=1.22e-04\n",
      "193.99s\n",
      "Computing loss\n",
      "loss=0.8978554996878474\n",
      "53.36s\n"
     ]
    }
   ],
   "source": [
    "recommender = train_mf(\n",
    "    train_data=reviews_train,\n",
    "    images=images,\n",
    "    d=20,\n",
    "    alpha=.1,\n",
    "    beta=.1,\n",
    "    max_als_epochs=10,\n",
    "    sgd_learning_rate=.1,\n",
    "    max_sgd_epochs=1000000,\n",
    "    sgd_batch_size=1,\n",
    ")"
   ]
  },
  {
   "cell_type": "code",
   "execution_count": 15,
   "id": "d08ea671",
   "metadata": {},
   "outputs": [],
   "source": [
    "Y_copy = recommender.Y.copy()"
   ]
  },
  {
   "cell_type": "code",
   "execution_count": 22,
   "id": "ae7e0dac",
   "metadata": {},
   "outputs": [
    {
     "name": "stdout",
     "output_type": "stream",
     "text": [
      "Computing X\n",
      "116.92s\n"
     ]
    }
   ],
   "source": [
    "d=20\n",
    "alpha=.1\n",
    "beta=.1\n",
    "train_data, I, tags, n, m, k = preprocess(reviews_train, images)\n",
    "\n",
    "image_indices, ratings, start_indices, end_indices = get_reviews_by_user(train_data)\n",
    "\n",
    "X = np.random.normal(size=(n, d))\n",
    "Y = recommender.Y.copy()\n",
    "\n",
    "print(\"Computing X\")\n",
    "start = time.time()\n",
    "update_X(\n",
    "    X=X,\n",
    "    Y=Y,\n",
    "    I=I,\n",
    "    image_indices=image_indices,\n",
    "    ratings=ratings,\n",
    "    start_indices=start_indices,\n",
    "    end_indices=end_indices,\n",
    "    n=n,\n",
    "    d=d,\n",
    "    alpha=alpha,\n",
    ")\n",
    "end = time.time()\n",
    "print(f\"{end - start:.2f}s\")"
   ]
  },
  {
   "cell_type": "code",
   "execution_count": 37,
   "id": "050ceb39",
   "metadata": {},
   "outputs": [
    {
     "name": "stdout",
     "output_type": "stream",
     "text": [
      "epoch=100000, elapsed: 117.93s, average: 117.93s, delta_Y_size=2.12e+02, Y_size=3.55e+03, percent_change=5.98e-02\n"
     ]
    }
   ],
   "source": [
    "sgd_learning_rate=.1\n",
    "max_sgd_epochs=100000\n",
    "sgd_batch_size=10\n",
    "\n",
    "Y = recommender.Y.copy()\n",
    "\n",
    "update_Y(\n",
    "    X=X,\n",
    "    Y=Y,\n",
    "    I=I,\n",
    "    image_indices=image_indices,\n",
    "    ratings=ratings,\n",
    "    start_indices=start_indices,\n",
    "    end_indices=end_indices,\n",
    "    n=n,\n",
    "    k=k,\n",
    "    d=d,\n",
    "    beta=beta,\n",
    "    learning_rate=sgd_learning_rate,\n",
    "    max_epochs=max_sgd_epochs,\n",
    "    batch_size=sgd_batch_size,\n",
    ")"
   ]
  },
  {
   "cell_type": "code",
   "execution_count": 5,
   "id": "588406a4",
   "metadata": {},
   "outputs": [
    {
     "ename": "KeyError",
     "evalue": "'user_index'",
     "output_type": "error",
     "traceback": [
      "\u001b[0;31m---------------------------------------------------------------------------\u001b[0m",
      "\u001b[0;31mKeyError\u001b[0m                                  Traceback (most recent call last)",
      "Cell \u001b[0;32mIn[5], line 1\u001b[0m\n\u001b[0;32m----> 1\u001b[0m reviews_validation_by_user \u001b[38;5;241m=\u001b[39m \u001b[43mreviews_validation\u001b[49m\u001b[38;5;241;43m.\u001b[39;49m\u001b[43mgroupby\u001b[49m\u001b[43m(\u001b[49m\u001b[38;5;124;43m\"\u001b[39;49m\u001b[38;5;124;43muser_index\u001b[39;49m\u001b[38;5;124;43m\"\u001b[39;49m\u001b[43m)\u001b[49m\u001b[38;5;241m.\u001b[39mapply(\u001b[38;5;28;01mlambda\u001b[39;00m group: (group[\u001b[38;5;124m\"\u001b[39m\u001b[38;5;124mimage_index\u001b[39m\u001b[38;5;124m\"\u001b[39m]\u001b[38;5;241m.\u001b[39mto_numpy(), group[\u001b[38;5;124m\"\u001b[39m\u001b[38;5;124mrating\u001b[39m\u001b[38;5;124m\"\u001b[39m]\u001b[38;5;241m.\u001b[39mto_numpy()))\n",
      "File \u001b[0;32m~/miniconda3/lib/python3.10/site-packages/pandas/core/frame.py:8399\u001b[0m, in \u001b[0;36mDataFrame.groupby\u001b[0;34m(self, by, axis, level, as_index, sort, group_keys, squeeze, observed, dropna)\u001b[0m\n\u001b[1;32m   8396\u001b[0m     \u001b[38;5;28;01mraise\u001b[39;00m \u001b[38;5;167;01mTypeError\u001b[39;00m(\u001b[38;5;124m\"\u001b[39m\u001b[38;5;124mYou have to supply one of \u001b[39m\u001b[38;5;124m'\u001b[39m\u001b[38;5;124mby\u001b[39m\u001b[38;5;124m'\u001b[39m\u001b[38;5;124m and \u001b[39m\u001b[38;5;124m'\u001b[39m\u001b[38;5;124mlevel\u001b[39m\u001b[38;5;124m'\u001b[39m\u001b[38;5;124m\"\u001b[39m)\n\u001b[1;32m   8397\u001b[0m axis \u001b[38;5;241m=\u001b[39m \u001b[38;5;28mself\u001b[39m\u001b[38;5;241m.\u001b[39m_get_axis_number(axis)\n\u001b[0;32m-> 8399\u001b[0m \u001b[38;5;28;01mreturn\u001b[39;00m \u001b[43mDataFrameGroupBy\u001b[49m\u001b[43m(\u001b[49m\n\u001b[1;32m   8400\u001b[0m \u001b[43m    \u001b[49m\u001b[43mobj\u001b[49m\u001b[38;5;241;43m=\u001b[39;49m\u001b[38;5;28;43mself\u001b[39;49m\u001b[43m,\u001b[49m\n\u001b[1;32m   8401\u001b[0m \u001b[43m    \u001b[49m\u001b[43mkeys\u001b[49m\u001b[38;5;241;43m=\u001b[39;49m\u001b[43mby\u001b[49m\u001b[43m,\u001b[49m\n\u001b[1;32m   8402\u001b[0m \u001b[43m    \u001b[49m\u001b[43maxis\u001b[49m\u001b[38;5;241;43m=\u001b[39;49m\u001b[43maxis\u001b[49m\u001b[43m,\u001b[49m\n\u001b[1;32m   8403\u001b[0m \u001b[43m    \u001b[49m\u001b[43mlevel\u001b[49m\u001b[38;5;241;43m=\u001b[39;49m\u001b[43mlevel\u001b[49m\u001b[43m,\u001b[49m\n\u001b[1;32m   8404\u001b[0m \u001b[43m    \u001b[49m\u001b[43mas_index\u001b[49m\u001b[38;5;241;43m=\u001b[39;49m\u001b[43mas_index\u001b[49m\u001b[43m,\u001b[49m\n\u001b[1;32m   8405\u001b[0m \u001b[43m    \u001b[49m\u001b[43msort\u001b[49m\u001b[38;5;241;43m=\u001b[39;49m\u001b[43msort\u001b[49m\u001b[43m,\u001b[49m\n\u001b[1;32m   8406\u001b[0m \u001b[43m    \u001b[49m\u001b[43mgroup_keys\u001b[49m\u001b[38;5;241;43m=\u001b[39;49m\u001b[43mgroup_keys\u001b[49m\u001b[43m,\u001b[49m\n\u001b[1;32m   8407\u001b[0m \u001b[43m    \u001b[49m\u001b[43msqueeze\u001b[49m\u001b[38;5;241;43m=\u001b[39;49m\u001b[43msqueeze\u001b[49m\u001b[43m,\u001b[49m\n\u001b[1;32m   8408\u001b[0m \u001b[43m    \u001b[49m\u001b[43mobserved\u001b[49m\u001b[38;5;241;43m=\u001b[39;49m\u001b[43mobserved\u001b[49m\u001b[43m,\u001b[49m\n\u001b[1;32m   8409\u001b[0m \u001b[43m    \u001b[49m\u001b[43mdropna\u001b[49m\u001b[38;5;241;43m=\u001b[39;49m\u001b[43mdropna\u001b[49m\u001b[43m,\u001b[49m\n\u001b[1;32m   8410\u001b[0m \u001b[43m\u001b[49m\u001b[43m)\u001b[49m\n",
      "File \u001b[0;32m~/miniconda3/lib/python3.10/site-packages/pandas/core/groupby/groupby.py:959\u001b[0m, in \u001b[0;36mGroupBy.__init__\u001b[0;34m(self, obj, keys, axis, level, grouper, exclusions, selection, as_index, sort, group_keys, squeeze, observed, mutated, dropna)\u001b[0m\n\u001b[1;32m    956\u001b[0m \u001b[38;5;28;01mif\u001b[39;00m grouper \u001b[38;5;129;01mis\u001b[39;00m \u001b[38;5;28;01mNone\u001b[39;00m:\n\u001b[1;32m    957\u001b[0m     \u001b[38;5;28;01mfrom\u001b[39;00m \u001b[38;5;21;01mpandas\u001b[39;00m\u001b[38;5;21;01m.\u001b[39;00m\u001b[38;5;21;01mcore\u001b[39;00m\u001b[38;5;21;01m.\u001b[39;00m\u001b[38;5;21;01mgroupby\u001b[39;00m\u001b[38;5;21;01m.\u001b[39;00m\u001b[38;5;21;01mgrouper\u001b[39;00m \u001b[38;5;28;01mimport\u001b[39;00m get_grouper\n\u001b[0;32m--> 959\u001b[0m     grouper, exclusions, obj \u001b[38;5;241m=\u001b[39m \u001b[43mget_grouper\u001b[49m\u001b[43m(\u001b[49m\n\u001b[1;32m    960\u001b[0m \u001b[43m        \u001b[49m\u001b[43mobj\u001b[49m\u001b[43m,\u001b[49m\n\u001b[1;32m    961\u001b[0m \u001b[43m        \u001b[49m\u001b[43mkeys\u001b[49m\u001b[43m,\u001b[49m\n\u001b[1;32m    962\u001b[0m \u001b[43m        \u001b[49m\u001b[43maxis\u001b[49m\u001b[38;5;241;43m=\u001b[39;49m\u001b[43maxis\u001b[49m\u001b[43m,\u001b[49m\n\u001b[1;32m    963\u001b[0m \u001b[43m        \u001b[49m\u001b[43mlevel\u001b[49m\u001b[38;5;241;43m=\u001b[39;49m\u001b[43mlevel\u001b[49m\u001b[43m,\u001b[49m\n\u001b[1;32m    964\u001b[0m \u001b[43m        \u001b[49m\u001b[43msort\u001b[49m\u001b[38;5;241;43m=\u001b[39;49m\u001b[43msort\u001b[49m\u001b[43m,\u001b[49m\n\u001b[1;32m    965\u001b[0m \u001b[43m        \u001b[49m\u001b[43mobserved\u001b[49m\u001b[38;5;241;43m=\u001b[39;49m\u001b[43mobserved\u001b[49m\u001b[43m,\u001b[49m\n\u001b[1;32m    966\u001b[0m \u001b[43m        \u001b[49m\u001b[43mmutated\u001b[49m\u001b[38;5;241;43m=\u001b[39;49m\u001b[38;5;28;43mself\u001b[39;49m\u001b[38;5;241;43m.\u001b[39;49m\u001b[43mmutated\u001b[49m\u001b[43m,\u001b[49m\n\u001b[1;32m    967\u001b[0m \u001b[43m        \u001b[49m\u001b[43mdropna\u001b[49m\u001b[38;5;241;43m=\u001b[39;49m\u001b[38;5;28;43mself\u001b[39;49m\u001b[38;5;241;43m.\u001b[39;49m\u001b[43mdropna\u001b[49m\u001b[43m,\u001b[49m\n\u001b[1;32m    968\u001b[0m \u001b[43m    \u001b[49m\u001b[43m)\u001b[49m\n\u001b[1;32m    970\u001b[0m \u001b[38;5;28mself\u001b[39m\u001b[38;5;241m.\u001b[39mobj \u001b[38;5;241m=\u001b[39m obj\n\u001b[1;32m    971\u001b[0m \u001b[38;5;28mself\u001b[39m\u001b[38;5;241m.\u001b[39maxis \u001b[38;5;241m=\u001b[39m obj\u001b[38;5;241m.\u001b[39m_get_axis_number(axis)\n",
      "File \u001b[0;32m~/miniconda3/lib/python3.10/site-packages/pandas/core/groupby/grouper.py:888\u001b[0m, in \u001b[0;36mget_grouper\u001b[0;34m(obj, key, axis, level, sort, observed, mutated, validate, dropna)\u001b[0m\n\u001b[1;32m    886\u001b[0m         in_axis, level, gpr \u001b[38;5;241m=\u001b[39m \u001b[38;5;28;01mFalse\u001b[39;00m, gpr, \u001b[38;5;28;01mNone\u001b[39;00m\n\u001b[1;32m    887\u001b[0m     \u001b[38;5;28;01melse\u001b[39;00m:\n\u001b[0;32m--> 888\u001b[0m         \u001b[38;5;28;01mraise\u001b[39;00m \u001b[38;5;167;01mKeyError\u001b[39;00m(gpr)\n\u001b[1;32m    889\u001b[0m \u001b[38;5;28;01melif\u001b[39;00m \u001b[38;5;28misinstance\u001b[39m(gpr, Grouper) \u001b[38;5;129;01mand\u001b[39;00m gpr\u001b[38;5;241m.\u001b[39mkey \u001b[38;5;129;01mis\u001b[39;00m \u001b[38;5;129;01mnot\u001b[39;00m \u001b[38;5;28;01mNone\u001b[39;00m:\n\u001b[1;32m    890\u001b[0m     \u001b[38;5;66;03m# Add key to exclusions\u001b[39;00m\n\u001b[1;32m    891\u001b[0m     exclusions\u001b[38;5;241m.\u001b[39madd(gpr\u001b[38;5;241m.\u001b[39mkey)\n",
      "\u001b[0;31mKeyError\u001b[0m: 'user_index'"
     ]
    }
   ],
   "source": [
    "reviews_validation_by_user = reviews_validation.groupby(\"user_index\").apply(lambda group: (group[\"image_index\"].to_numpy(), group[\"rating\"].to_numpy()))"
   ]
  },
  {
   "cell_type": "code",
   "execution_count": null,
   "id": "06538343",
   "metadata": {},
   "outputs": [],
   "source": [
    "validation_loss = 1/n * sum(1 / len(image_ids) * sum((ratings - image_tags[image_ids] @ (Y @ X[u])) ** 2) for u, (image_ids, ratings) in reviews_validation_by_user.items() if len(image_ids) > 0)\n",
    "validation_loss"
   ]
  },
  {
   "cell_type": "code",
   "execution_count": null,
   "id": "90539671",
   "metadata": {},
   "outputs": [],
   "source": [
    "recommender = train_knn(reviews_train, word_embedding)"
   ]
  },
  {
   "cell_type": "code",
   "execution_count": null,
   "id": "e0c9c33b",
   "metadata": {},
   "outputs": [],
   "source": [
    "evaluate_recommendations(recommender, reviews_validation)"
   ]
  },
  {
   "cell_type": "code",
   "execution_count": null,
   "id": "67f27786",
   "metadata": {},
   "outputs": [],
   "source": []
  }
 ],
 "metadata": {
  "kernelspec": {
   "display_name": "Python 3 (ipykernel)",
   "language": "python",
   "name": "python3"
  },
  "language_info": {
   "codemirror_mode": {
    "name": "ipython",
    "version": 3
   },
   "file_extension": ".py",
   "mimetype": "text/x-python",
   "name": "python",
   "nbconvert_exporter": "python",
   "pygments_lexer": "ipython3",
   "version": "3.10.9"
  }
 },
 "nbformat": 4,
 "nbformat_minor": 5
}
