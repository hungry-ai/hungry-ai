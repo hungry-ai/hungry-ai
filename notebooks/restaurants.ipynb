{
 "cells": [
  {
   "cell_type": "code",
   "execution_count": 1,
   "id": "5490e14b",
   "metadata": {},
   "outputs": [],
   "source": [
    "import json\n",
    "import numpy as np\n",
    "import pandas as pd\n",
    "from pathlib import Path\n",
    "from geopy.distance import distance"
   ]
  },
  {
   "cell_type": "code",
   "execution_count": 2,
   "id": "104d5b44",
   "metadata": {},
   "outputs": [],
   "source": [
    "data_path = Path(\"../data\")\n",
    "businesses_path = data_path / \"yelp_dataset\" / \"yelp_academic_dataset_business.json\"\n",
    "reviews_path = data_path / \"yelp_dataset\" / \"yelp_academic_dataset_review.json\"\n",
    "photos_path = data_path / \"yelp_photos\" / \"photos.json\""
   ]
  },
  {
   "cell_type": "code",
   "execution_count": 3,
   "id": "05fb29e4",
   "metadata": {},
   "outputs": [],
   "source": [
    "restaurants_data = []\n",
    "with open(businesses_path) as f:\n",
    "    for line_raw in f:\n",
    "        line = json.loads(line_raw)\n",
    "        business = {\n",
    "            \"business_id\": line.get(\"business_id\", None),\n",
    "            \"categories_raw\": line.get(\"categories\", None),\n",
    "            \"review_count\": line.get(\"review_count\", None),\n",
    "        }\n",
    "        \n",
    "        if None in business.values():\n",
    "            continue\n",
    "        \n",
    "        categories = (line[\"categories\"] or \"\").lower()\n",
    "        if any(category in categories for category in [\"restaurant\", \"food\"]):\n",
    "            restaurants_data.append(business)\n",
    "restaurants = pd.DataFrame(data=restaurants_data)"
   ]
  },
  {
   "cell_type": "code",
   "execution_count": 4,
   "id": "73730ad2",
   "metadata": {},
   "outputs": [],
   "source": [
    "reviews_data = []\n",
    "with open(reviews_path) as f:\n",
    "    for line_raw in f:\n",
    "        line = json.loads(line_raw)\n",
    "        review = {\n",
    "            \"user_id\": line.get(\"user_id\", None),\n",
    "            \"business_id\": line.get(\"business_id\", None),\n",
    "            \"rating\": line.get(\"stars\", None),\n",
    "        }\n",
    "        \n",
    "        if None in review.values():\n",
    "            continue\n",
    "        \n",
    "        reviews_data.append(review)\n",
    "reviews = pd.DataFrame(data=reviews_data)"
   ]
  },
  {
   "cell_type": "code",
   "execution_count": 5,
   "id": "9a90c542",
   "metadata": {},
   "outputs": [],
   "source": [
    "photos_data = []\n",
    "with open(photos_path) as f:\n",
    "    for line_raw in f:\n",
    "        line = json.loads(line_raw)\n",
    "        photo = {\n",
    "            \"photo_id\": line.get(\"photo_id\", None),\n",
    "            \"business_id\": line.get(\"business_id\", None)\n",
    "        }\n",
    "        \n",
    "        if None in photo.values():\n",
    "            continue\n",
    "        \n",
    "        photos_data.append(photo)\n",
    "photos = pd.DataFrame(data=photos_data)"
   ]
  },
  {
   "cell_type": "code",
   "execution_count": 6,
   "id": "94c0e1fa",
   "metadata": {},
   "outputs": [],
   "source": [
    "categories = [\n",
    "    \"mexic\",\n",
    "    \"sandwich\",\n",
    "    \"vietnam\",\n",
    "    \"pizza\",\n",
    "    \"burger\",\n",
    "    \"taco\",\n",
    "    \"seafood\",\n",
    "    \"chinese\",\n",
    "    \"wing\",\n",
    "    \"japan\",\n",
    "    \"asia\",\n",
    "    \"salad\",\n",
    "    \"sushi\",\n",
    "    \"barbecue\",\n",
    "    \"bbq\",\n",
    "    \"noodle\",\n",
    "    \"italian\",\n",
    "    \"india\",\n",
    "    \"soup\",\n",
    "    \"dessert\",\n",
    "    \"thai\",\n",
    "    \"chicken\",\n",
    "    \"hotdog\",\n",
    "    \"mediterran\",\n",
    "    \"korea\",\n",
    "    \"hawaii\",\n",
    "    \"greek\",\n",
    "    \"steak\",\n",
    "    \"poke\",\n",
    "    \"cajun\",\n",
    "    \"creole\",\n",
    "    \"bagel\",\n",
    "    \"hotpot\",\n",
    "    \"icecream\",\n",
    "    \"filipino\",\n",
    "    \"ramen\",\n",
    "    \"donut\",\n",
    "    \"cheesesteak\",\n",
    "    \"dimsum\",\n",
    "    \"pasta\",\n",
    "]\n",
    "\n",
    "restaurants[\"categories\"] = restaurants[\"categories_raw\"].str.lower().str.replace(\" \", \"\").apply(lambda cats: {cat for cat in categories if cat in cats})\n",
    "restaurants[\"restaurant_index\"] = restaurants.index\n",
    "category_counts = restaurants.categories.explode().dropna().value_counts()"
   ]
  },
  {
   "cell_type": "code",
   "execution_count": 7,
   "id": "f4049597",
   "metadata": {},
   "outputs": [],
   "source": [
    "user_review_counts = reviews[\"user_id\"].value_counts()\n",
    "user_indices = user_review_counts[user_review_counts > 10].index.to_series(name=\"user_id\").reset_index(drop=True).reset_index().rename(columns={\"index\": \"user_index\"})\n",
    "reviews = reviews.merge(restaurants[[\"business_id\", \"restaurant_index\"]], on=\"business_id\")\n",
    "reviews = reviews.merge(user_indices, on=\"user_id\", how=\"inner\")"
   ]
  },
  {
   "cell_type": "code",
   "execution_count": 8,
   "id": "b6d75120",
   "metadata": {},
   "outputs": [],
   "source": [
    "photo_counts = photos.groupby(\"business_id\").apply(len).rename(\"photo_count\").reset_index()\n",
    "restaurant_counts = restaurants.merge(photo_counts, on=\"business_id\")\n",
    "category_counts = restaurant_counts[restaurant_counts[\"photo_count\"] >= 10][\"categories\"].explode().dropna().value_counts()"
   ]
  },
  {
   "cell_type": "code",
   "execution_count": 9,
   "id": "055c503e",
   "metadata": {},
   "outputs": [],
   "source": [
    "from scipy.sparse import csr_matrix, identity\n",
    "\n",
    "n = reviews.user_index.max() + 1  # users\n",
    "m = reviews.restaurant_index.max() + 1  # restaurants\n",
    "\n",
    "P = csr_matrix((\n",
    "    -np.ones(2 * len(reviews)),\n",
    "    (np.concatenate([(reviews.restaurant_index).to_numpy(), (reviews.user_index + m).to_numpy()]),\n",
    "     np.concatenate([(reviews.user_index + m).to_numpy(), (reviews.restaurant_index).to_numpy()])\n",
    "    )\n",
    "), shape=(n+m,n+m)) + identity(n+m) * (n+m)\n",
    "\n",
    "A = np.concatenate([\n",
    "    np.concatenate([\n",
    "        np.where(restaurants[\"categories\"].apply(lambda x: category in x), 1, 0),\n",
    "        np.zeros(n)\n",
    "    ]).reshape(1, -1)\n",
    "    for category in category_counts.index\n",
    "])\n",
    "\n",
    "b = np.concatenate([(n+m) * np.ones(m), (n+m+10) * np.ones(n)])"
   ]
  },
  {
   "cell_type": "code",
   "execution_count": null,
   "id": "8a134af3",
   "metadata": {},
   "outputs": [],
   "source": [
    "import cvxpy as cp\n",
    "\n",
    "x = cp.Variable(m+n)\n",
    "\n",
    "objective = cp.quad_form(x, P, assume_PSD=True) - (n+m) * np.ones(m+n) @ x\n",
    "constraints = [\n",
    "    0 <= x,\n",
    "    x <= 1,\n",
    "    np.ones(m+n) @ x >= 1000,\n",
    "    np.ones(m+n) @ x <= 3000,\n",
    "    A @ x >= 5\n",
    "]\n",
    "prob = cp.Problem(cp.Minimize(objective), constraints)\n",
    "prob.solve()"
   ]
  },
  {
   "cell_type": "code",
   "execution_count": null,
   "id": "32d71a39",
   "metadata": {},
   "outputs": [],
   "source": [
    "x.value"
   ]
  },
  {
   "cell_type": "code",
   "execution_count": null,
   "id": "65636078",
   "metadata": {},
   "outputs": [],
   "source": []
  }
 ],
 "metadata": {
  "kernelspec": {
   "display_name": "Python 3 (ipykernel)",
   "language": "python",
   "name": "python3"
  },
  "language_info": {
   "codemirror_mode": {
    "name": "ipython",
    "version": 3
   },
   "file_extension": ".py",
   "mimetype": "text/x-python",
   "name": "python",
   "nbconvert_exporter": "python",
   "pygments_lexer": "ipython3",
   "version": "3.10.8"
  }
 },
 "nbformat": 4,
 "nbformat_minor": 5
}
