{
 "cells": [
  {
   "cell_type": "code",
   "execution_count": 1,
   "id": "7e515e78",
   "metadata": {},
   "outputs": [],
   "source": [
    "%reload_ext autoreload\n",
    "%autoreload 2\n",
    "\n",
    "import os\n",
    "import sys\n",
    "sys.path.insert(1, os.path.join(sys.path[0], '..'))"
   ]
  },
  {
   "cell_type": "code",
   "execution_count": 12,
   "id": "25a4ebb6",
   "metadata": {},
   "outputs": [],
   "source": [
    "from src.graph import visualize\n",
    "from src.recommender import train_knn, reviews_dataset, evaluate_recommendations\n",
    "from src.tags import PytorchWordEmbedding"
   ]
  },
  {
   "cell_type": "code",
   "execution_count": 3,
   "id": "f98d50a6",
   "metadata": {},
   "outputs": [],
   "source": [
    "reviews_train, reviews_validation, reviews_test, images = reviews_dataset()"
   ]
  },
  {
   "cell_type": "code",
   "execution_count": 4,
   "id": "c790ca87",
   "metadata": {},
   "outputs": [],
   "source": [
    "tags = list(images.tags.dropna().str.split(\",|&|/\").explode().str.strip().unique())"
   ]
  },
  {
   "cell_type": "code",
   "execution_count": 5,
   "id": "de194950",
   "metadata": {},
   "outputs": [
    {
     "name": "stdout",
     "output_type": "stream",
     "text": [
      "Number of words kept: 532\n"
     ]
    }
   ],
   "source": [
    "word_embedding = PytorchWordEmbedding(words=tags, dimension=50)"
   ]
  },
  {
   "cell_type": "code",
   "execution_count": 6,
   "id": "582136b1",
   "metadata": {},
   "outputs": [
    {
     "data": {
      "text/plain": [
       "dict_keys(['libraries', 'podiatrists', 'calabrian', 'pulmonologist', 'home', 'siding', 'drugstores', 'perfume', 'gates', 'bistros', 'masonry', 'golf', 'japanese', 'laundromat', 'hospitalists', 'buses', 'boxing', 'municipality', 'teachers', 'accountants', 'gifts', 'kebab', 'couriers', 'somali', 'bowling', 'singaporean', 'haitian', 'firewood', 'pathologists', 'gyms', 'chiropractors', 'herbs', 'ophthalmologists', 'djs', 'radiologists', 'stonemasons', 'railing', 'tanning', 'endocrinologists', 'architects', 'senegalese', 'mediators', 'smoothies', 'newspapers', 'wraps', 'gerontologists', 'aquariums', 'pets', 'doctors', 'fertility', 'gynecologists', 'pilates', 'arts', 'nutritionists', 'machine', 'allergists', 'beaches', 'opticians', 'mattresses', 'supplies', 'nudist', 'fishing', 'opera', 'desserts', 'cheerleading', 'framing', 'bridal', 'lasik', 'laundry', 'carpenters', 'coffeeshops', 'falafel', 'parking', 'pharmacy', 'cafes', 'pancakes', 'books', 'reflexology', 'barbeque', 'dumplings', 'iranian', 'lounges', 'painters', 'veterinarians', 'sandwiches', 'irrigation', 'fish', 'bangladeshi', 'flowers', 'furniture', 'colombian', 'urologists', 'argentine', 'soup', 'naturopathic', 'engraving', 'swimwear', 'uzbek', 'osteopaths', 'services', 'archery', 'kayaking', 'bartenders', 'passport', 'cabinetry', 'mosques', 'farms', 'cinema', 'orthopedists', 'races', 'mexican', 'brewpubs', 'seafood', 'propane', 'entertainment', 'fondue', 'cafeteria', 'live', 'french', 'accessories', 'distilleries', 'spas', 'airsoft', 'arenas', 'marketing', 'sheds', 'bath', 'australian', 'mongolian', 'blues', 'lebanese', 'hypnotherapy', 'recording', 'lawyers', 'churches', 'synagogues', 'wine', 'sardinian', 'pool', 'czech', 'burgers', 'anesthesiologists', 'laotian', 'taxidermy', 'ramen', 'magicians', 'sailing', 'prosthetics', 'gemstones', 'supply', 'caribbean', 'magazines', 'garden', 'music', 'adult', 'acupuncture', 'tableware', 'decks', 'delis', 'carpeting', 'rheumatologists', 'childproofing', 'embroidery', 'dermatologists', 'tacos', 'nephrologists', 'ferries', 'cryotherapy', 'israeli', 'kiteboarding', 'experiences', 'pediatricians', 'airports', 'parks', 'supplements', 'oncologist', 'gardeners', 'keys', 'thai', 'consignment', 'kickboxing', 'tires', 'rolfing', 'courthouses', 'astrologers', 'csa', 'transportation', 'polish', 'irish', 'hainan', 'african', 'props', 'party', 'arabic', 'hiking', 'italian', 'pubs', 'sugaring', 'spices', 'bicycles', 'cosmetics', 'preschools', 'butcher', 'international', 'skydiving', 'diving', 'speakeasies', 'cantonese', 'bars', 'health', 'karate', 'pita', 'fashion', 'landmarks', 'breweries', 'sip', 'landscaping', 'hungarian', 'sunglasses', 'tattoo', 'wills', 'german', 'investing', 'restaurants', 'squash', 'hunting', 'computers', 'playgrounds', 'boating', 'surfing', 'buffets', 'taxis', 'caricatures', 'psychiatrists', 'bookstores', 'burmese', 'casinos', 'billiards', 'bookkeepers', 'uniforms', 'beauty', 'used', 'cupcakes', 'repair', 'oriental', 'apartments', 'junkyards', 'hypnosis', 'automotive', 'orthodontists', 'shopping', 'government', 'jails', 'instruction', 'afghan', 'sledding', 'paint', 'cheesesteaks', 'carousels', 'soccer', 'donuts', 'vocational', 'limos', 'roman', 'tea', 'audio', 'vietnamese', 'tex-mex', 'shades', 'stationery', 'notaries', 'kombucha', 'halal', 'honey', 'karaoke', 'veggies', 'insurance', 'ukrainian', 'waterproofing', 'pedicabs', 'syrian', 'fingerprinting', 'patisserie', 'prenatal', 'florists', 'gardening', 'tiling', 'bagels', 'antiques', 'dvds', 'hostels', 'calligraphy', 'electronics', 'vegetarian', 'gymnastics', 'counseling', 'food', 'gun', 'jazz', 'hospitals', 'drones', 'heating', 'guamanian', 'gunsmith', 'taekwondo', 'chinese', 'embassy', 'costumes', 'indian', 'tuscan', 'trusts', 'pakistani', 'dominican', 'sicilian', 'shops', 'spanish', 'climbing', 'hawaiian', 'basque', 'fruits', 'gelato', 'wallpapering', 'advertising', 'fitness', 'southern', 'venues', 'zoos', 'mirrors', 'watches', 'gastroenterologist', 'izakaya', 'cabaret', 'gluten-free', 'crochet', 'dietitians', 'sewing', 'wholesalers', 'shanghainese', 'hydrotherapy', 'teppanyaki', 'chocolatiers', 'parasailing', 'waffles', 'peruvian', 'brunch', 'flooring', 'contractors', 'doulas', 'hvac', 'hauling', 'cardiologists', 'installation', 'sandblasting', 'divorce', 'turkish', 'ethiopian', 'creole', 'pretzels', 'spirits', 'videos', 'cuban', 'pizza', 'alterations', 'electricians', 'nepalese', 'eyewear', 'throat', 'saunas', 'cajun', 'trainers', 'coffee', 'barbers', 'bikes', 'planetarium', 'kosher', 'nicaraguan', 'videographers', 'midwives', 'blinds', 'non-profit', 'bookbinding', 'psychologists', 'british', 'schools', 'bed', 'rafting', 'salad', 'equipment', 'salvadoran', 'tonkatsu', 'photographers', 'tours', 'audiologist', 'stadiums', 'vitamins', 'poke', 'ski', 'wineries', 'competitions', 'utilities', 'trains', 'nurseries', 'grocery', 'hotels', 'russian', 'campgrounds', 'arcades', 'marinas', 'obstetricians', 'ayurveda', 'neurologist', 'hakka', 'trinidadian', 'ammo', 'nightlife', 'steakhouses', 'kiosk', 'luggage', 'iberian', 'hydroponics', 'delicatessen', 'orthotics', 'dentists', 'colleges', 'rodeo', 'paragliding', 'georgian', 'armenian', 'minerals', 'noodles', 'condominiums', 'travel', 'blood', 'crafts', 'yoga', 'optometrists', 'persian', 'cards', 'ranches', 'jewelry', 'movers', 'tubing', 'austrian', 'vintage', 'resorts', 'undersea', 'belgian', 'roofing', 'handyman', 'breakfast', 'cemeteries', 'diners', 'empanadas', 'museums', 'medical', 'skiing', 'guns', 'scottish', 'kitchen', 'scandinavian', 'moroccan', 'caterers', 'honduran', 'festivals', 'ballet', 'lakes', 'holistic', 'snorkeling', 'universities', 'observatories', 'prisons', 'officiants', 'egyptian', 'awnings', 'korean', 'mags', 'fences', 'badminton', 'smokehouse', 'musicians', 'filipino', 'shutters', 'concrete', 'brasseries', 'towing', 'locksmiths', 'chips', 'cambodian', 'clowns', 'rugs', 'fuzhou', 'lingerie', 'tapas', 'greek', 'piercing', 'wigs', 'waxing', 'indonesian', 'banks', 'malaysian', 'himalayan', 'mediterranean', 'venezuelan', 'paintball', 'telecommunications', 'surgeons', 'vegan', 'reiki', 'video', 'hats', 'aestheticians', 'ip', 'wheel', 'airlines', 'massage', 'portuguese', 'glass', 'education', 'appliances', 'matchmakers', 'tennis', 'bakeries', 'maintenance', 'taiwanese', 'brazilian', 'plumbing', 'playsets', 'beer', 'psychics', 'fireworks', 'szechuan', 'hospice'])"
      ]
     },
     "execution_count": 6,
     "metadata": {},
     "output_type": "execute_result"
    }
   ],
   "source": [
    "word_embedding.keys()"
   ]
  },
  {
   "cell_type": "code",
   "execution_count": 7,
   "id": "e518c1e8",
   "metadata": {},
   "outputs": [
    {
     "data": {
      "text/html": [
       "<div>\n",
       "<style scoped>\n",
       "    .dataframe tbody tr th:only-of-type {\n",
       "        vertical-align: middle;\n",
       "    }\n",
       "\n",
       "    .dataframe tbody tr th {\n",
       "        vertical-align: top;\n",
       "    }\n",
       "\n",
       "    .dataframe thead th {\n",
       "        text-align: right;\n",
       "    }\n",
       "</style>\n",
       "<table border=\"1\" class=\"dataframe\">\n",
       "  <thead>\n",
       "    <tr style=\"text-align: right;\">\n",
       "      <th></th>\n",
       "      <th>user_id</th>\n",
       "      <th>image_id</th>\n",
       "      <th>rating</th>\n",
       "    </tr>\n",
       "  </thead>\n",
       "  <tbody>\n",
       "    <tr>\n",
       "      <th>6761489</th>\n",
       "      <td>0FDTkc-BYZgNLac2OEtLog</td>\n",
       "      <td>VGzkEiZz7gqK_SYW86GlaA</td>\n",
       "      <td>5.0</td>\n",
       "    </tr>\n",
       "    <tr>\n",
       "      <th>3042083</th>\n",
       "      <td>biXvLE9j8tzt1iZ1adBPOQ</td>\n",
       "      <td>EVBon3CYRXXhbhkrVYfDWA</td>\n",
       "      <td>1.0</td>\n",
       "    </tr>\n",
       "    <tr>\n",
       "      <th>4975767</th>\n",
       "      <td>C8Oz6p3UrIYpOybp_VvhWg</td>\n",
       "      <td>0o5oz5EKbrx2xiS752weVQ</td>\n",
       "      <td>4.0</td>\n",
       "    </tr>\n",
       "    <tr>\n",
       "      <th>2155879</th>\n",
       "      <td>62ciK8a7-bmd8fwA0Sznzw</td>\n",
       "      <td>mAqgsZBTN-wsShMpkz2o9g</td>\n",
       "      <td>3.0</td>\n",
       "    </tr>\n",
       "    <tr>\n",
       "      <th>2007247</th>\n",
       "      <td>mqzKlVv-JzDM4TbdHxqFpw</td>\n",
       "      <td>xXNvOsQhzKNPZZE0j7uHlQ</td>\n",
       "      <td>5.0</td>\n",
       "    </tr>\n",
       "    <tr>\n",
       "      <th>...</th>\n",
       "      <td>...</td>\n",
       "      <td>...</td>\n",
       "      <td>...</td>\n",
       "    </tr>\n",
       "    <tr>\n",
       "      <th>5436238</th>\n",
       "      <td>c58LB4hCJcL93W52whHgKA</td>\n",
       "      <td>ntiIq1FNqduOyyowMFGh5A</td>\n",
       "      <td>3.0</td>\n",
       "    </tr>\n",
       "    <tr>\n",
       "      <th>3174086</th>\n",
       "      <td>bySwOkKdTvxj3XoHNdHqtg</td>\n",
       "      <td>IxopnFY3N31qMErNHaRTGg</td>\n",
       "      <td>5.0</td>\n",
       "    </tr>\n",
       "    <tr>\n",
       "      <th>6184121</th>\n",
       "      <td>a8Dd8uNFxfQjCSKpkP34HQ</td>\n",
       "      <td>0PBWFnRsFaM1ZzPD2u51kA</td>\n",
       "      <td>4.0</td>\n",
       "    </tr>\n",
       "    <tr>\n",
       "      <th>2105184</th>\n",
       "      <td>StLvm17tpMCYeEEdofZPYw</td>\n",
       "      <td>9oZFQ8THmH3B4GZxvWtFbw</td>\n",
       "      <td>4.0</td>\n",
       "    </tr>\n",
       "    <tr>\n",
       "      <th>5203305</th>\n",
       "      <td>Ax_3MR4cGObCjQNuwMOazA</td>\n",
       "      <td>kvXcCaX6zvlvkyMWqfX9Wg</td>\n",
       "      <td>5.0</td>\n",
       "    </tr>\n",
       "  </tbody>\n",
       "</table>\n",
       "<p>5592224 rows × 3 columns</p>\n",
       "</div>"
      ],
      "text/plain": [
       "                        user_id                image_id  rating\n",
       "6761489  0FDTkc-BYZgNLac2OEtLog  VGzkEiZz7gqK_SYW86GlaA     5.0\n",
       "3042083  biXvLE9j8tzt1iZ1adBPOQ  EVBon3CYRXXhbhkrVYfDWA     1.0\n",
       "4975767  C8Oz6p3UrIYpOybp_VvhWg  0o5oz5EKbrx2xiS752weVQ     4.0\n",
       "2155879  62ciK8a7-bmd8fwA0Sznzw  mAqgsZBTN-wsShMpkz2o9g     3.0\n",
       "2007247  mqzKlVv-JzDM4TbdHxqFpw  xXNvOsQhzKNPZZE0j7uHlQ     5.0\n",
       "...                         ...                     ...     ...\n",
       "5436238  c58LB4hCJcL93W52whHgKA  ntiIq1FNqduOyyowMFGh5A     3.0\n",
       "3174086  bySwOkKdTvxj3XoHNdHqtg  IxopnFY3N31qMErNHaRTGg     5.0\n",
       "6184121  a8Dd8uNFxfQjCSKpkP34HQ  0PBWFnRsFaM1ZzPD2u51kA     4.0\n",
       "2105184  StLvm17tpMCYeEEdofZPYw  9oZFQ8THmH3B4GZxvWtFbw     4.0\n",
       "5203305  Ax_3MR4cGObCjQNuwMOazA  kvXcCaX6zvlvkyMWqfX9Wg     5.0\n",
       "\n",
       "[5592224 rows x 3 columns]"
      ]
     },
     "execution_count": 7,
     "metadata": {},
     "output_type": "execute_result"
    }
   ],
   "source": [
    "reviews_train"
   ]
  },
  {
   "cell_type": "code",
   "execution_count": 8,
   "id": "90539671",
   "metadata": {},
   "outputs": [],
   "source": [
    "recommender = train_knn(reviews_train, word_embedding)"
   ]
  },
  {
   "cell_type": "code",
   "execution_count": 42,
   "id": "b34d8054",
   "metadata": {},
   "outputs": [
    {
     "name": "stdout",
     "output_type": "stream",
     "text": [
      "Graph outputted to file: visualize.html\n"
     ]
    },
    {
     "data": {
      "text/html": [
       "\n",
       "        <iframe\n",
       "            width=\"100%\"\n",
       "            height=\"600px\"\n",
       "            src=\"visualize.html\"\n",
       "            frameborder=\"0\"\n",
       "            allowfullscreen\n",
       "            \n",
       "        ></iframe>\n",
       "        "
      ],
      "text/plain": [
       "<IPython.lib.display.IFrame at 0x28cdfc0d0>"
      ]
     },
     "execution_count": 42,
     "metadata": {},
     "output_type": "execute_result"
    }
   ],
   "source": [
    "visualize(recommender.graph, {vertex: vertex.id for vertex in recommender.graph.vertices})"
   ]
  },
  {
   "cell_type": "code",
   "execution_count": 10,
   "id": "e0c9c33b",
   "metadata": {},
   "outputs": [
    {
     "ename": "NotImplementedError",
     "evalue": "",
     "output_type": "error",
     "traceback": [
      "\u001b[0;31m---------------------------------------------------------------------------\u001b[0m",
      "\u001b[0;31mNotImplementedError\u001b[0m                       Traceback (most recent call last)",
      "Cell \u001b[0;32mIn[10], line 1\u001b[0m\n\u001b[0;32m----> 1\u001b[0m \u001b[43mevaluate_recommendations\u001b[49m\u001b[43m(\u001b[49m\u001b[43mrecommender\u001b[49m\u001b[43m,\u001b[49m\u001b[43m \u001b[49m\u001b[43mreviews_validation\u001b[49m\u001b[43m)\u001b[49m\n",
      "File \u001b[0;32m~/Documents/hungry-ai/notebooks/../src/recommender/evaluation.py:88\u001b[0m, in \u001b[0;36mevaluate_recommendations\u001b[0;34m(recommender, test_set)\u001b[0m\n\u001b[1;32m     82\u001b[0m \u001b[38;5;28;01mdef\u001b[39;00m \u001b[38;5;21mevaluate_recommendations\u001b[39m(\n\u001b[1;32m     83\u001b[0m     recommender: Recommender, test_set: pd\u001b[38;5;241m.\u001b[39mDataFrame\n\u001b[1;32m     84\u001b[0m ) \u001b[38;5;241m-\u001b[39m\u001b[38;5;241m>\u001b[39m \u001b[38;5;28mdict\u001b[39m[\u001b[38;5;28mstr\u001b[39m, \u001b[38;5;28mfloat\u001b[39m]:\n\u001b[1;32m     85\u001b[0m     \u001b[38;5;66;03m# test_set is a csv with columns user_id, image_id, rating\u001b[39;00m\n\u001b[1;32m     86\u001b[0m     \u001b[38;5;66;03m# all image_ids should exist in recommender.graph\u001b[39;00m\n\u001b[0;32m---> 88\u001b[0m     \u001b[38;5;28;01mraise\u001b[39;00m \u001b[38;5;167;01mNotImplementedError\u001b[39;00m\n",
      "\u001b[0;31mNotImplementedError\u001b[0m: "
     ]
    }
   ],
   "source": [
    "evaluate_recommendations(recommender, reviews_validation)"
   ]
  },
  {
   "cell_type": "code",
   "execution_count": null,
   "id": "f7f69885",
   "metadata": {},
   "outputs": [],
   "source": []
  }
 ],
 "metadata": {
  "kernelspec": {
   "display_name": "Python 3 (ipykernel)",
   "language": "python",
   "name": "python3"
  },
  "language_info": {
   "codemirror_mode": {
    "name": "ipython",
    "version": 3
   },
   "file_extension": ".py",
   "mimetype": "text/x-python",
   "name": "python",
   "nbconvert_exporter": "python",
   "pygments_lexer": "ipython3",
   "version": "3.10.9"
  }
 },
 "nbformat": 4,
 "nbformat_minor": 5
}
