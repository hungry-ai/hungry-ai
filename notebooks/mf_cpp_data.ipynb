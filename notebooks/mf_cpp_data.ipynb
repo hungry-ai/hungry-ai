{
 "cells": [
  {
   "cell_type": "code",
   "execution_count": 5,
   "id": "15a26ca4",
   "metadata": {},
   "outputs": [],
   "source": [
    "%reload_ext autoreload\n",
    "%autoreload 2\n",
    "\n",
    "import os\n",
    "import sys\n",
    "sys.path.insert(1, os.path.join(sys.path[0], '..'))"
   ]
  },
  {
   "cell_type": "code",
   "execution_count": 6,
   "id": "b38d19bf",
   "metadata": {},
   "outputs": [],
   "source": [
    "import numpy as np\n",
    "import pandas as pd\n",
    "import time\n",
    "\n",
    "from src.fitting import train_mf_native, reviews_dataset, evaluate_recommendations\n",
    "from src.fitting.mf_native import preprocess, get_reviews_by_user"
   ]
  },
  {
   "cell_type": "code",
   "execution_count": 7,
   "id": "7bfb6a31",
   "metadata": {},
   "outputs": [],
   "source": [
    "reviews_train, reviews_validation, reviews_test, images = reviews_dataset()"
   ]
  },
  {
   "cell_type": "code",
   "execution_count": 8,
   "id": "7067109f",
   "metadata": {},
   "outputs": [],
   "source": [
    "train_data, I, tags, n, m, k = preprocess(reviews_train, images)"
   ]
  },
  {
   "cell_type": "code",
   "execution_count": 36,
   "id": "5048a4e5",
   "metadata": {},
   "outputs": [],
   "source": [
    "train_data[[\"user_index\", \"image_index\", \"rating\"]].to_csv(\"../data/reviews/reviews_train_cpp.csv\", index=None, header=False)"
   ]
  },
  {
   "cell_type": "code",
   "execution_count": 33,
   "id": "4dc5ff33",
   "metadata": {},
   "outputs": [],
   "source": [
    "with open(\"../data/reviews/I.txt\", \"w\") as f:\n",
    "    for i in I:\n",
    "        f.write(\" \".join([str(j) for j in i]) + \"\\n\")"
   ]
  },
  {
   "cell_type": "code",
   "execution_count": null,
   "id": "4aca24ad",
   "metadata": {},
   "outputs": [],
   "source": []
  }
 ],
 "metadata": {
  "kernelspec": {
   "display_name": "Python 3 (ipykernel)",
   "language": "python",
   "name": "python3"
  },
  "language_info": {
   "codemirror_mode": {
    "name": "ipython",
    "version": 3
   },
   "file_extension": ".py",
   "mimetype": "text/x-python",
   "name": "python",
   "nbconvert_exporter": "python",
   "pygments_lexer": "ipython3",
   "version": "3.10.8"
  }
 },
 "nbformat": 4,
 "nbformat_minor": 5
}
