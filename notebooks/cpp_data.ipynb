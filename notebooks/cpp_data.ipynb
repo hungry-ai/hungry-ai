{
 "cells": [
  {
   "cell_type": "code",
   "execution_count": 1,
   "id": "a67227bf",
   "metadata": {},
   "outputs": [],
   "source": [
    "%reload_ext autoreload\n",
    "%autoreload 2\n",
    "\n",
    "import os\n",
    "import sys\n",
    "sys.path.insert(1, os.path.join(sys.path[0], '..'))"
   ]
  },
  {
   "cell_type": "code",
   "execution_count": 2,
   "id": "fd0ca133",
   "metadata": {
    "scrolled": true
   },
   "outputs": [
    {
     "name": "stdout",
     "output_type": "stream",
     "text": [
      "                  user_id  rating             business_id\n",
      "0  mh_-eMZ6K5RLWhZyISBhwA     3.0  XQfwVwDr-v0ZS3_CbbE5Xw\n",
      "1  OyoGAe7OKpv6SyGZT5g77Q     5.0  7ATYjTIgM3jUlt4UM3IypQ\n",
      "2  8g_iMtfSiwikVnbP2etR0A     3.0  YjUWPpI6HXG530lwP-fb2A\n",
      "3  _7bHUi9Uuf5__HHc_Q8guQ     5.0  kxX2SOes4o-D3ZQBkiMRfA\n",
      "4  bcjbaE6dDog4jkNY91ncLQ     4.0  e4Vwtrqf-wpJfwesgvdgxQ\n"
     ]
    }
   ],
   "source": [
    "import numpy as np\n",
    "import pandas as pd\n",
    "import time\n",
    "from typing import Any\n",
    "import json\n",
    "\n",
    "reviews_path = \"/Users/alef/Documents/hungry-ai/data/yelp_dataset/yelp_academic_dataset_review.json\"\n",
    "image_tags_path = \"/Users/alef/Documents/hungry-ai/data/real/image_tags.json\"\n",
    "\n",
    "reviews_data: dict[str, list[Any]] = {\n",
    "    \"user_id\": [],\n",
    "    \"rating\": [],\n",
    "    \"business_id\": [],\n",
    "}\n",
    "\n",
    "with open(reviews_path) as f:\n",
    "    for line_raw in f:\n",
    "        line = json.loads(line_raw)\n",
    "        reviews_data[\"user_id\"].append(line.get(\"user_id\", None))\n",
    "        reviews_data[\"business_id\"].append(line.get(\"business_id\", None))\n",
    "        reviews_data[\"rating\"].append(line.get(\"stars\", None))\n",
    "        \n",
    "reviews_df = pd.DataFrame(reviews_data)\n",
    "print(reviews_df.head())"
   ]
  },
  {
   "cell_type": "code",
   "execution_count": 47,
   "id": "56071e53",
   "metadata": {
    "scrolled": true
   },
   "outputs": [
    {
     "name": "stdout",
     "output_type": "stream",
     "text": [
      "[[0.10923699 0.09649112 0.09391821 ... 0.         0.         1.        ]\n",
      " [0.         0.         0.         ... 0.         0.         1.        ]\n",
      " [0.         0.         0.         ... 0.         0.         1.        ]\n",
      " ...\n",
      " [0.         0.         0.         ... 0.         0.         1.        ]\n",
      " [0.         0.         0.         ... 0.         0.         1.        ]\n",
      " [0.         0.         0.         ... 0.         0.         1.        ]]\n"
     ]
    }
   ],
   "source": [
    "image_tags_path = \"/Users/alef/Documents/hungry-ai/data/real/image_tags.json\"\n",
    "\n",
    "tags = []\n",
    "images = []\n",
    "businesses = []\n",
    "scores = []\n",
    "\n",
    "with open(image_tags_path, encoding = 'latin-1') as f:\n",
    "    for line_raw in f:\n",
    "        line = json.loads(line_raw, strict = False)\n",
    "        for el in line[\"labels\"]:\n",
    "            tags.append(el[\"description\"])\n",
    "            images.append(line[\"photo_id\"])\n",
    "            businesses.append(line[\"business_id\"])\n",
    "            scores.append(el[\"score\"])\n",
    "            \n",
    "df = pd.DataFrame(list(zip(tags,images,businesses,scores)), columns = [\"tags\",\"images\",\"businesses\",\"scores\"])\n",
    "df = df.groupby([\"tags\",'images','businesses'])['scores'].sum().reset_index()\n",
    "\n",
    "image_indices = pd.DataFrame(df['images'].unique()).reset_index().rename(columns = {'index' : 'image_index', 0 : 'images'})\n",
    "df = df.merge(image_indices, on = 'images')\n",
    "\n",
    "business_indices = pd.DataFrame(df['businesses'].unique()).reset_index().rename(columns = {'index' : 'business_index', 0 : 'businesses'})\n",
    "df = df.merge(business_indices, on = 'businesses')\n",
    "\n",
    "tag_indices = pd.DataFrame(df['tags'].unique()).reset_index().rename(columns = {'index' : 'tag_index', 0 : 'tags'})\n",
    "df = df.merge(tag_indices, on = 'tags')\n",
    "\n",
    "m = df['image_index'].max()+1\n",
    "k = df['tag_index'].max()+1\n",
    "\n",
    "I = np.zeros((m,k+1))\n",
    "\n",
    "for i,row in df.iterrows():\n",
    "    I[row['image_index']][row['tag_index']] = row['scores']\n",
    "\n",
    "for row in range(m):\n",
    "    row_sum = sum(I[row])\n",
    "    if(row_sum != 0):\n",
    "        for col in range(k):\n",
    "            I[row][col] /= row_sum\n",
    "\n",
    "for row in range(m):\n",
    "    I[row][k] = 1\n",
    "\n",
    "print(I)"
   ]
  },
  {
   "cell_type": "code",
   "execution_count": 43,
   "id": "c3c38d59",
   "metadata": {},
   "outputs": [
    {
     "data": {
      "text/plain": [
       "image_index                     31586\n",
       "images         zzcYA1JoRoJGwVk5pTjSaQ\n",
       "dtype: object"
      ]
     },
     "execution_count": 43,
     "metadata": {},
     "output_type": "execute_result"
    }
   ],
   "source": [
    "image_indices.max()"
   ]
  },
  {
   "cell_type": "code",
   "execution_count": 48,
   "id": "c9196c52",
   "metadata": {},
   "outputs": [
    {
     "data": {
      "text/html": [
       "<div>\n",
       "<style scoped>\n",
       "    .dataframe tbody tr th:only-of-type {\n",
       "        vertical-align: middle;\n",
       "    }\n",
       "\n",
       "    .dataframe tbody tr th {\n",
       "        vertical-align: top;\n",
       "    }\n",
       "\n",
       "    .dataframe thead th {\n",
       "        text-align: right;\n",
       "    }\n",
       "</style>\n",
       "<table border=\"1\" class=\"dataframe\">\n",
       "  <thead>\n",
       "    <tr style=\"text-align: right;\">\n",
       "      <th></th>\n",
       "      <th>user_id</th>\n",
       "      <th>images</th>\n",
       "      <th>rating</th>\n",
       "      <th>image_index</th>\n",
       "    </tr>\n",
       "  </thead>\n",
       "  <tbody>\n",
       "    <tr>\n",
       "      <th>0</th>\n",
       "      <td>yWmupwLUZ2Sa-u8bvs853Q</td>\n",
       "      <td>-CkHJ95FbPjQKtxJmplNsA</td>\n",
       "      <td>4.0</td>\n",
       "      <td>0</td>\n",
       "    </tr>\n",
       "    <tr>\n",
       "      <th>1</th>\n",
       "      <td>vffKQc_WQMYFGY4JS5VAOw</td>\n",
       "      <td>-CkHJ95FbPjQKtxJmplNsA</td>\n",
       "      <td>3.0</td>\n",
       "      <td>0</td>\n",
       "    </tr>\n",
       "    <tr>\n",
       "      <th>2</th>\n",
       "      <td>qj_DyM6laBseHq-ylAmsTw</td>\n",
       "      <td>-CkHJ95FbPjQKtxJmplNsA</td>\n",
       "      <td>2.0</td>\n",
       "      <td>0</td>\n",
       "    </tr>\n",
       "    <tr>\n",
       "      <th>3</th>\n",
       "      <td>oS2U_MtAcpjoF9GExypZ8A</td>\n",
       "      <td>-CkHJ95FbPjQKtxJmplNsA</td>\n",
       "      <td>1.0</td>\n",
       "      <td>0</td>\n",
       "    </tr>\n",
       "    <tr>\n",
       "      <th>4</th>\n",
       "      <td>cMAiTrM0Fxm8vKLQag53jg</td>\n",
       "      <td>-CkHJ95FbPjQKtxJmplNsA</td>\n",
       "      <td>2.0</td>\n",
       "      <td>0</td>\n",
       "    </tr>\n",
       "    <tr>\n",
       "      <th>...</th>\n",
       "      <td>...</td>\n",
       "      <td>...</td>\n",
       "      <td>...</td>\n",
       "      <td>...</td>\n",
       "    </tr>\n",
       "    <tr>\n",
       "      <th>19550190</th>\n",
       "      <td>FZbx7q0Lp_XIMSHrMQ1m3w</td>\n",
       "      <td>tXPUgN0zmYZC8IOePsAZQw</td>\n",
       "      <td>1.0</td>\n",
       "      <td>20035</td>\n",
       "    </tr>\n",
       "    <tr>\n",
       "      <th>19550191</th>\n",
       "      <td>DMPzVexqwVTweZ-rZst6Zw</td>\n",
       "      <td>tXPUgN0zmYZC8IOePsAZQw</td>\n",
       "      <td>4.0</td>\n",
       "      <td>20035</td>\n",
       "    </tr>\n",
       "    <tr>\n",
       "      <th>19550192</th>\n",
       "      <td>EYXx17hVkCkW84xvTBncQQ</td>\n",
       "      <td>tXPUgN0zmYZC8IOePsAZQw</td>\n",
       "      <td>1.0</td>\n",
       "      <td>20035</td>\n",
       "    </tr>\n",
       "    <tr>\n",
       "      <th>19550193</th>\n",
       "      <td>e8Lfi7Km12QbcQFGWzuo1w</td>\n",
       "      <td>tXPUgN0zmYZC8IOePsAZQw</td>\n",
       "      <td>4.0</td>\n",
       "      <td>20035</td>\n",
       "    </tr>\n",
       "    <tr>\n",
       "      <th>19550194</th>\n",
       "      <td>-TJt4NRtmg28_KuekGlMrw</td>\n",
       "      <td>tXPUgN0zmYZC8IOePsAZQw</td>\n",
       "      <td>5.0</td>\n",
       "      <td>20035</td>\n",
       "    </tr>\n",
       "  </tbody>\n",
       "</table>\n",
       "<p>19550195 rows × 4 columns</p>\n",
       "</div>"
      ],
      "text/plain": [
       "                         user_id                  images  rating  image_index\n",
       "0         yWmupwLUZ2Sa-u8bvs853Q  -CkHJ95FbPjQKtxJmplNsA     4.0            0\n",
       "1         vffKQc_WQMYFGY4JS5VAOw  -CkHJ95FbPjQKtxJmplNsA     3.0            0\n",
       "2         qj_DyM6laBseHq-ylAmsTw  -CkHJ95FbPjQKtxJmplNsA     2.0            0\n",
       "3         oS2U_MtAcpjoF9GExypZ8A  -CkHJ95FbPjQKtxJmplNsA     1.0            0\n",
       "4         cMAiTrM0Fxm8vKLQag53jg  -CkHJ95FbPjQKtxJmplNsA     2.0            0\n",
       "...                          ...                     ...     ...          ...\n",
       "19550190  FZbx7q0Lp_XIMSHrMQ1m3w  tXPUgN0zmYZC8IOePsAZQw     1.0        20035\n",
       "19550191  DMPzVexqwVTweZ-rZst6Zw  tXPUgN0zmYZC8IOePsAZQw     4.0        20035\n",
       "19550192  EYXx17hVkCkW84xvTBncQQ  tXPUgN0zmYZC8IOePsAZQw     1.0        20035\n",
       "19550193  e8Lfi7Km12QbcQFGWzuo1w  tXPUgN0zmYZC8IOePsAZQw     4.0        20035\n",
       "19550194  -TJt4NRtmg28_KuekGlMrw  tXPUgN0zmYZC8IOePsAZQw     5.0        20035\n",
       "\n",
       "[19550195 rows x 4 columns]"
      ]
     },
     "execution_count": 48,
     "metadata": {},
     "output_type": "execute_result"
    }
   ],
   "source": [
    "BI = df[[\"businesses\",\"images\", \"image_index\"]].drop_duplicates()\n",
    "\n",
    "reviews = BI.merge(reviews_df,how = \"inner\", left_on = \"businesses\", right_on = \"business_id\")[[\"user_id\",\"images\",\"rating\",\"image_index\"]]\n",
    "\n",
    "reviews"
   ]
  },
  {
   "cell_type": "code",
   "execution_count": 49,
   "id": "be466bcc",
   "metadata": {},
   "outputs": [],
   "source": [
    "user_index = reviews[\"user_id\"].drop_duplicates().reset_index().rename(columns = {'index' : 'user_index'})\n",
    "reviews = reviews.merge(user_index, on = 'user_id')"
   ]
  },
  {
   "cell_type": "code",
   "execution_count": 50,
   "id": "9e776d72",
   "metadata": {},
   "outputs": [],
   "source": [
    "from sklearn.model_selection import train_test_split  # type: ignore[import]\n",
    "\n",
    "reviews_train, reviews_test = train_test_split(\n",
    "    reviews, train_size=0.8, random_state=42069\n",
    ")\n",
    "\n",
    "reviews_train[[\"user_index\", \"image_index\", \"rating\"]].sort_values(\"user_index\").to_csv(\"../data/real/reviews_train_cpp.csv\", index=None, header=False, sep=\" \")"
   ]
  },
  {
   "cell_type": "code",
   "execution_count": 51,
   "id": "bc69eb4f",
   "metadata": {},
   "outputs": [],
   "source": [
    "with open(\"../data/real/I.txt\", \"w\") as f:\n",
    "    for i in I:\n",
    "        f.write(\" \".join([str(j) for j in i]) + \"\\n\")"
   ]
  },
  {
   "cell_type": "code",
   "execution_count": 52,
   "id": "508dcb29",
   "metadata": {},
   "outputs": [
    {
     "name": "stdout",
     "output_type": "stream",
     "text": [
      "15640156 324749 31587 2635\n"
     ]
    }
   ],
   "source": [
    "print(len(reviews_train),len(reviews['user_index'].drop_duplicates()), m, k)"
   ]
  },
  {
   "cell_type": "code",
   "execution_count": null,
   "id": "589ff2a8",
   "metadata": {},
   "outputs": [],
   "source": []
  }
 ],
 "metadata": {
  "kernelspec": {
   "display_name": "Python 3 (ipykernel)",
   "language": "python",
   "name": "python3"
  },
  "language_info": {
   "codemirror_mode": {
    "name": "ipython",
    "version": 3
   },
   "file_extension": ".py",
   "mimetype": "text/x-python",
   "name": "python",
   "nbconvert_exporter": "python",
   "pygments_lexer": "ipython3",
   "version": "3.9.16"
  }
 },
 "nbformat": 4,
 "nbformat_minor": 5
}
